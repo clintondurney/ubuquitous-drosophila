{
 "cells": [
  {
   "cell_type": "code",
   "execution_count": 2,
   "metadata": {
    "collapsed": false
   },
   "outputs": [],
   "source": [
    "import networkx as nx\n",
    "import matplotlib.pyplot as plt\n",
    "import numpy as np\n",
    "from scipy.spatial import distance\n",
    "%matplotlib inline"
   ]
  },
  {
   "cell_type": "code",
   "execution_count": 3,
   "metadata": {
    "collapsed": false
   },
   "outputs": [],
   "source": [
    "G = nx.Graph()\n",
    "\n",
    "origin = (0,0)\n",
    "p0 = (1,0)\n",
    "p1 = (np.cos(np.pi/3),np.sin(np.pi/3))\n",
    "p2 = (np.cos(2*np.pi/3),np.sin(2*np.pi/3))\n",
    "p3 = (np.cos(3*np.pi/3),np.sin(3*np.pi/3))\n",
    "p4 = (np.cos(4*np.pi/3),np.sin(4*np.pi/3))\n",
    "p5 = (np.cos(5*np.pi/3),np.sin(5*np.pi/3))\n",
    "nodes = [p0,p1,p2,p3,p4,p5]\n",
    "\n",
    "nodes = [p0,p1,p2,p3,p4,p5]\n",
    "i=0\n",
    "G.add_node(i,pos=origin,center=True)\n",
    "i +=1 \n",
    "for node in nodes:\n",
    "    G.add_node(i,pos=node,center=False)\n",
    "    i += 1\n",
    "\n",
    "origin = 1.5, np.cos(np.pi/6)\n",
    "p1 = (origin[0] + np.cos(np.pi/3), origin[1] + np.sin(np.pi/3))\n",
    "p2 = (origin[0] + np.cos(2*np.pi/3), origin[1] + np.sin(2*np.pi/3))\n",
    "\n",
    "nodes = [p1,p2]\n",
    "\n",
    "G.add_node(i,pos=origin,center=True)\n",
    "i +=1\n",
    "\n",
    "for node in nodes:\n",
    "    G.add_node(i,pos=node,center=False)\n",
    "    i += 1\n",
    "\n",
    "origin = 1.5, -np.cos(np.pi/6)\n",
    "p4 = (origin[0] + np.cos(4*np.pi/3), origin[1] + np.sin(4*np.pi/3))\n",
    "p5 = (origin[0] + np.cos(5*np.pi/3), origin[1] + np.sin(5*np.pi/3))\n",
    "nodes = [p4,p5]\n",
    "\n",
    "G.add_node(i,pos=origin,center=True)\n",
    "i+=1\n",
    "\n",
    "for node in nodes:\n",
    "    G.add_node(i,pos=node,center=False)\n",
    "    i += 1\n",
    "    \n",
    "origin = 1.5*2, 0\n",
    "p0 = (origin[0] + 1, origin[1] + 0)\n",
    "p1 = (origin[0] + np.cos(np.pi/3), origin[1] + np.sin(np.pi/3))\n",
    "p2 = (origin[0] + np.cos(2*np.pi/3), origin[1] + np.sin(2*np.pi/3))\n",
    "p3 = (origin[0] + np.cos(3*np.pi/3), origin[1] + np.sin(3*np.pi/3))\n",
    "p4 = (origin[0] + np.cos(4*np.pi/3), origin[1] + np.sin(4*np.pi/3))\n",
    "p5 = (origin[0] + np.cos(5*np.pi/3), origin[1] + np.sin(5*np.pi/3))\n",
    "nodes = [p0,p1,p2,p3,p4,p5]\n",
    "\n",
    "G.add_node(i,pos=origin,center=True)\n",
    "i+=1\n",
    "\n",
    "for node in nodes:\n",
    "    G.add_node(i,pos=node,center=False)\n",
    "    i += 1"
   ]
  },
  {
   "cell_type": "code",
   "execution_count": 4,
   "metadata": {
    "collapsed": true
   },
   "outputs": [],
   "source": [
    "def unit_vector(A,B):\n",
    "    # Calculate the unit vector from A to B \n",
    "\n",
    "    dist = distance.euclidean(A,B)\n",
    "\n",
    "    return ((B[0]-A[0])/dist,(B[1]-A[1])/dist)\n",
    "\n",
    "def calc_force(l, myosin,b):\n",
    "\n",
    "    return 10*(l-1) + b*myosin\n",
    "\n",
    "def d_pos(position,force,dt):\n",
    "\n",
    "    x_new = position[0] + (dt/const.eta)*force[0]\n",
    "\n",
    "    y_new = position[1] + (dt/const.eta)*force[1]\n",
    "\n",
    "    return (x_new,y_new)"
   ]
  },
  {
   "cell_type": "code",
   "execution_count": 5,
   "metadata": {
    "collapsed": false
   },
   "outputs": [],
   "source": [
    "G.add_path([1,2,3,4,5,6,1],beta=0,myosin=0)\n",
    "G.add_path([1,17,16,8,9,2],beta=0,myosin=0)\n",
    "G.add_path([6,11,12,18,17,1],beta=0,myosin=0)\n",
    "G.add_path([18,19,14,15,16],beta=0,myosin=0)\n",
    "G.add_edges_from([(0,1),(0,2),(0,3),(0,4),(0,5),(0,6)],beta=10,myosin=1000)\n",
    "G.add_edges_from([(7,16),(7,8),(7,9),(7,2),(7,1),(7,17)],beta=10,myosin=1000)\n",
    "G.add_edges_from([(10,18),(10,17),(10,1),(10,6),(10,11),(10,12)],beta=10,myosin=1000)\n",
    "G.add_edges_from([(13,14),(13,15),(13,16),(13,17),(13,18),(13,19)],beta=10,myosin=1000)"
   ]
  },
  {
   "cell_type": "code",
   "execution_count": 6,
   "metadata": {
    "collapsed": false
   },
   "outputs": [
    {
     "data": {
      "image/png": "[encoded data removed]",
      "text/plain": [
       "<matplotlib.figure.Figure at 0x7f9b3b051eb8>"
      ]
     },
     "metadata": {},
     "output_type": "display_data"
    }
   ],
   "source": [
    "pos = nx.get_node_attributes(G,'pos')\n",
    "\n",
    "nx.draw_networkx_nodes(G,pos,with_labels=True)\n",
    "nx.draw_networkx_edges(G,pos,edge_color=range(len(G.edges())))\n",
    "plt.xlim(-2,5)\n",
    "plt.ylim(-2,2)\n",
    "plt.axis(\"on\")\n",
    "plt.grid(\"on\")\n",
    "\n",
    "plt.show()"
   ]
  },
  {
   "cell_type": "code",
   "execution_count": 7,
   "metadata": {
    "collapsed": false
   },
   "outputs": [
    {
     "data": {
      "text/plain": [
       "[(0, {'center': True, 'pos': (0, 0)}),\n",
       " (1, {'center': False, 'pos': (1, 0)}),\n",
       " (2, {'center': False, 'pos': (0.50000000000000011, 0.8660254037844386)}),\n",
       " (3, {'center': False, 'pos': (-0.49999999999999978, 0.86602540378443871)}),\n",
       " (4, {'center': False, 'pos': (-1.0, 1.2246467991473532e-16)}),\n",
       " (5, {'center': False, 'pos': (-0.50000000000000044, -0.86602540378443837)}),\n",
       " (6, {'center': False, 'pos': (0.50000000000000011, -0.8660254037844386)}),\n",
       " (7, {'center': True, 'pos': (1.5, 0.86602540378443871)}),\n",
       " (8, {'center': False, 'pos': (2.0, 1.7320508075688772)}),\n",
       " (9, {'center': False, 'pos': (1.0000000000000002, 1.7320508075688774)}),\n",
       " (10, {'center': True, 'pos': (1.5, -0.86602540378443871)}),\n",
       " (11, {'center': False, 'pos': (0.99999999999999956, -1.7320508075688772)}),\n",
       " (12, {'center': False, 'pos': (2.0, -1.7320508075688772)}),\n",
       " (13, {'center': True, 'pos': (3.0, 0)}),\n",
       " (14, {'center': False, 'pos': (4.0, 0)}),\n",
       " (15, {'center': False, 'pos': (3.5, 0.8660254037844386)}),\n",
       " (16, {'center': False, 'pos': (2.5, 0.86602540378443871)}),\n",
       " (17, {'center': False, 'pos': (2.0, 1.2246467991473532e-16)}),\n",
       " (18, {'center': False, 'pos': (2.4999999999999996, -0.86602540378443837)}),\n",
       " (19, {'center': False, 'pos': (3.5, -0.8660254037844386)})]"
      ]
     },
     "execution_count": 7,
     "metadata": {},
     "output_type": "execute_result"
    }
   ],
   "source": [
    "list(G.nodes(data=True))"
   ]
  },
  {
   "cell_type": "code",
   "execution_count": 8,
   "metadata": {
    "collapsed": false
   },
   "outputs": [],
   "source": [
    "for spoke in list(G.neighbors(0)):\n",
    "    G[0][spoke]['myosin'] = G[0][spoke]['myosin']+10"
   ]
  },
  {
   "cell_type": "code",
   "execution_count": 9,
   "metadata": {
    "collapsed": false
   },
   "outputs": [
    {
     "data": {
      "text/plain": [
       "[(0, 1, {'beta': 10, 'myosin': 1010}),\n",
       " (0, 2, {'beta': 10, 'myosin': 1010}),\n",
       " (0, 3, {'beta': 10, 'myosin': 1010}),\n",
       " (0, 4, {'beta': 10, 'myosin': 1010}),\n",
       " (0, 5, {'beta': 10, 'myosin': 1010}),\n",
       " (0, 6, {'beta': 10, 'myosin': 1010}),\n",
       " (1, 17, {'beta': 0, 'myosin': 0}),\n",
       " (1, 2, {'beta': 0, 'myosin': 0}),\n",
       " (1, 6, {'beta': 0, 'myosin': 0}),\n",
       " (1, 7, {'beta': 10, 'myosin': 1000}),\n",
       " (1, 10, {'beta': 10, 'myosin': 1000}),\n",
       " (2, 3, {'beta': 0, 'myosin': 0}),\n",
       " (2, 7, {'beta': 10, 'myosin': 1000}),\n",
       " (2, 9, {'beta': 0, 'myosin': 0}),\n",
       " (3, 4, {'beta': 0, 'myosin': 0}),\n",
       " (4, 5, {'beta': 0, 'myosin': 0}),\n",
       " (5, 6, {'beta': 0, 'myosin': 0}),\n",
       " (6, 10, {'beta': 10, 'myosin': 1000}),\n",
       " (6, 11, {'beta': 0, 'myosin': 0}),\n",
       " (7, 16, {'beta': 10, 'myosin': 1000}),\n",
       " (7, 17, {'beta': 10, 'myosin': 1000}),\n",
       " (7, 8, {'beta': 10, 'myosin': 1000}),\n",
       " (7, 9, {'beta': 10, 'myosin': 1000}),\n",
       " (8, 16, {'beta': 0, 'myosin': 0}),\n",
       " (8, 9, {'beta': 0, 'myosin': 0}),\n",
       " (10, 17, {'beta': 10, 'myosin': 1000}),\n",
       " (10, 18, {'beta': 10, 'myosin': 1000}),\n",
       " (10, 11, {'beta': 10, 'myosin': 1000}),\n",
       " (10, 12, {'beta': 10, 'myosin': 1000}),\n",
       " (11, 12, {'beta': 0, 'myosin': 0}),\n",
       " (12, 18, {'beta': 0, 'myosin': 0}),\n",
       " (13, 16, {'beta': 10, 'myosin': 1000}),\n",
       " (13, 17, {'beta': 10, 'myosin': 1000}),\n",
       " (13, 18, {'beta': 10, 'myosin': 1000}),\n",
       " (13, 19, {'beta': 10, 'myosin': 1000}),\n",
       " (13, 14, {'beta': 10, 'myosin': 1000}),\n",
       " (13, 15, {'beta': 10, 'myosin': 1000}),\n",
       " (14, 19, {'beta': 0, 'myosin': 0}),\n",
       " (14, 15, {'beta': 0, 'myosin': 0}),\n",
       " (15, 16, {'beta': 0, 'myosin': 0}),\n",
       " (16, 17, {'beta': 0, 'myosin': 0}),\n",
       " (17, 18, {'beta': 0, 'myosin': 0}),\n",
       " (18, 19, {'beta': 0, 'myosin': 0})]"
      ]
     },
     "execution_count": 9,
     "metadata": {},
     "output_type": "execute_result"
    }
   ],
   "source": [
    "list(G.edges(data=True))"
   ]
  },
  {
   "cell_type": "code",
   "execution_count": 10,
   "metadata": {
    "collapsed": false
   },
   "outputs": [],
   "source": [
    "H = nx.Graph()"
   ]
  },
  {
   "cell_type": "code",
   "execution_count": 11,
   "metadata": {
    "collapsed": false
   },
   "outputs": [],
   "source": [
    "H = G.copy()"
   ]
  },
  {
   "cell_type": "code",
   "execution_count": 12,
   "metadata": {
    "collapsed": false
   },
   "outputs": [
    {
     "data": {
      "text/plain": [
       "[(0, {'center': True, 'pos': (0, 0)}),\n",
       " (1, {'center': False, 'pos': (1, 0)}),\n",
       " (2, {'center': False, 'pos': (0.50000000000000011, 0.8660254037844386)}),\n",
       " (3, {'center': False, 'pos': (-0.49999999999999978, 0.86602540378443871)}),\n",
       " (4, {'center': False, 'pos': (-1.0, 1.2246467991473532e-16)}),\n",
       " (5, {'center': False, 'pos': (-0.50000000000000044, -0.86602540378443837)}),\n",
       " (6, {'center': False, 'pos': (0.50000000000000011, -0.8660254037844386)}),\n",
       " (7, {'center': True, 'pos': (1.5, 0.86602540378443871)}),\n",
       " (8, {'center': False, 'pos': (2.0, 1.7320508075688772)}),\n",
       " (9, {'center': False, 'pos': (1.0000000000000002, 1.7320508075688774)}),\n",
       " (10, {'center': True, 'pos': (1.5, -0.86602540378443871)}),\n",
       " (11, {'center': False, 'pos': (0.99999999999999956, -1.7320508075688772)}),\n",
       " (12, {'center': False, 'pos': (2.0, -1.7320508075688772)}),\n",
       " (13, {'center': True, 'pos': (3.0, 0)}),\n",
       " (14, {'center': False, 'pos': (4.0, 0)}),\n",
       " (15, {'center': False, 'pos': (3.5, 0.8660254037844386)}),\n",
       " (16, {'center': False, 'pos': (2.5, 0.86602540378443871)}),\n",
       " (17, {'center': False, 'pos': (2.0, 1.2246467991473532e-16)}),\n",
       " (18, {'center': False, 'pos': (2.4999999999999996, -0.86602540378443837)}),\n",
       " (19, {'center': False, 'pos': (3.5, -0.8660254037844386)})]"
      ]
     },
     "execution_count": 12,
     "metadata": {},
     "output_type": "execute_result"
    }
   ],
   "source": [
    "list(H.nodes(data=True))"
   ]
  },
  {
   "cell_type": "code",
   "execution_count": 13,
   "metadata": {
    "collapsed": false
   },
   "outputs": [
    {
     "data": {
      "text/plain": [
       "(-0.50000000000000044, -0.86602540378443837)"
      ]
     },
     "execution_count": 13,
     "metadata": {},
     "output_type": "execute_result"
    }
   ],
   "source": [
    "H.node[5]['pos']=(-1,-1)\n",
    "G.node[5]['pos']"
   ]
  },
  {
   "cell_type": "code",
   "execution_count": 14,
   "metadata": {
    "collapsed": false
   },
   "outputs": [
    {
     "data": {
      "text/plain": [
       "[(0, {'center': True, 'pos': (0, 0)}),\n",
       " (1, {'center': False, 'pos': (1, 0)}),\n",
       " (2, {'center': False, 'pos': (0.50000000000000011, 0.8660254037844386)}),\n",
       " (3, {'center': False, 'pos': (-0.49999999999999978, 0.86602540378443871)}),\n",
       " (4, {'center': False, 'pos': (-1.0, 1.2246467991473532e-16)}),\n",
       " (5, {'center': False, 'pos': (-0.50000000000000044, -0.86602540378443837)}),\n",
       " (6, {'center': False, 'pos': (0.50000000000000011, -0.8660254037844386)}),\n",
       " (7, {'center': True, 'pos': (1.5, 0.86602540378443871)}),\n",
       " (8, {'center': False, 'pos': (2.0, 1.7320508075688772)}),\n",
       " (9, {'center': False, 'pos': (1.0000000000000002, 1.7320508075688774)}),\n",
       " (10, {'center': True, 'pos': (1.5, -0.86602540378443871)}),\n",
       " (11, {'center': False, 'pos': (0.99999999999999956, -1.7320508075688772)}),\n",
       " (12, {'center': False, 'pos': (2.0, -1.7320508075688772)}),\n",
       " (13, {'center': True, 'pos': (3.0, 0)}),\n",
       " (14, {'center': False, 'pos': (4.0, 0)}),\n",
       " (15, {'center': False, 'pos': (3.5, 0.8660254037844386)}),\n",
       " (16, {'center': False, 'pos': (2.5, 0.86602540378443871)}),\n",
       " (17, {'center': False, 'pos': (2.0, 1.2246467991473532e-16)}),\n",
       " (18, {'center': False, 'pos': (2.4999999999999996, -0.86602540378443837)}),\n",
       " (19, {'center': False, 'pos': (3.5, -0.8660254037844386)})]"
      ]
     },
     "execution_count": 14,
     "metadata": {},
     "output_type": "execute_result"
    }
   ],
   "source": [
    "list(G.nodes(data=True))"
   ]
  },
  {
   "cell_type": "code",
   "execution_count": 15,
   "metadata": {
    "collapsed": false
   },
   "outputs": [
    {
     "name": "stdout",
     "output_type": "stream",
     "text": [
      "(1, 17)\n",
      "(1, 2)\n",
      "(1, 6)\n",
      "(2, 3)\n",
      "(2, 9)\n",
      "(3, 4)\n",
      "(4, 5)\n",
      "(5, 6)\n",
      "(6, 11)\n",
      "(8, 16)\n",
      "(8, 9)\n",
      "(11, 12)\n",
      "(12, 18)\n",
      "(14, 19)\n",
      "(14, 15)\n",
      "(15, 16)\n",
      "(16, 17)\n",
      "(17, 18)\n",
      "(18, 19)\n"
     ]
    }
   ],
   "source": [
    "for spoke in H.edges_iter():\n",
    "    if H.edge[spoke[0]][spoke[1]]['beta'] == 0:\n",
    "        print(spoke)"
   ]
  },
  {
   "cell_type": "code",
   "execution_count": 16,
   "metadata": {
    "collapsed": false
   },
   "outputs": [
    {
     "name": "stdout",
     "output_type": "stream",
     "text": [
      "<class 'networkx.classes.graph.Graph'>\n"
     ]
    }
   ],
   "source": [
    "graphs = [G,H]\n",
    "print(type(graphs[-1]))"
   ]
  },
  {
   "cell_type": "code",
   "execution_count": 17,
   "metadata": {
    "collapsed": false
   },
   "outputs": [
    {
     "data": {
      "image/png": "[encoded data removed]",
      "text/plain": [
       "<matplotlib.figure.Figure at 0x7f9b3b0515c0>"
      ]
     },
     "metadata": {},
     "output_type": "display_data"
    },
    {
     "data": {
      "image/png": "[encoded data removed]",
      "text/plain": [
       "<matplotlib.figure.Figure at 0x7f9b38f19748>"
      ]
     },
     "metadata": {},
     "output_type": "display_data"
    }
   ],
   "source": [
    "for graph in graphs:\n",
    "    pos = nx.get_node_attributes(graph,'pos')\n",
    "\n",
    "    nx.draw(graph,pos,with_labels=True)\n",
    "    plt.xlim(-2,5)\n",
    "    plt.ylim(-2,2)\n",
    "    plt.axis(\"on\")\n",
    "    plt.grid(\"on\")\n",
    "\n",
    "    plt.show()"
   ]
  },
  {
   "cell_type": "code",
   "execution_count": 18,
   "metadata": {
    "collapsed": false
   },
   "outputs": [
    {
     "data": {
      "text/plain": [
       "(0, 0)"
      ]
     },
     "execution_count": 18,
     "metadata": {},
     "output_type": "execute_result"
    }
   ],
   "source": [
    "G.node[0]['pos']"
   ]
  },
  {
   "cell_type": "code",
   "execution_count": 19,
   "metadata": {
    "collapsed": false
   },
   "outputs": [
    {
     "data": {
      "text/plain": [
       "[(0, 1, {'beta': 10, 'myosin': 1010}),\n",
       " (0, 2, {'beta': 10, 'myosin': 1010}),\n",
       " (0, 3, {'beta': 10, 'myosin': 1010}),\n",
       " (0, 4, {'beta': 10, 'myosin': 1010}),\n",
       " (0, 5, {'beta': 10, 'myosin': 1010}),\n",
       " (0, 6, {'beta': 10, 'myosin': 1010}),\n",
       " (1, 17, {'beta': 0, 'myosin': 0}),\n",
       " (1, 2, {'beta': 0, 'myosin': 0}),\n",
       " (1, 6, {'beta': 0, 'myosin': 0}),\n",
       " (1, 7, {'beta': 10, 'myosin': 1000}),\n",
       " (1, 10, {'beta': 10, 'myosin': 1000}),\n",
       " (2, 3, {'beta': 0, 'myosin': 0}),\n",
       " (2, 7, {'beta': 10, 'myosin': 1000}),\n",
       " (2, 9, {'beta': 0, 'myosin': 0}),\n",
       " (3, 4, {'beta': 0, 'myosin': 0}),\n",
       " (4, 5, {'beta': 0, 'myosin': 0}),\n",
       " (5, 6, {'beta': 0, 'myosin': 0}),\n",
       " (6, 10, {'beta': 10, 'myosin': 1000}),\n",
       " (6, 11, {'beta': 0, 'myosin': 0}),\n",
       " (7, 16, {'beta': 10, 'myosin': 1000}),\n",
       " (7, 17, {'beta': 10, 'myosin': 1000}),\n",
       " (7, 8, {'beta': 10, 'myosin': 1000}),\n",
       " (7, 9, {'beta': 10, 'myosin': 1000}),\n",
       " (8, 16, {'beta': 0, 'myosin': 0}),\n",
       " (8, 9, {'beta': 0, 'myosin': 0}),\n",
       " (10, 17, {'beta': 10, 'myosin': 1000}),\n",
       " (10, 18, {'beta': 10, 'myosin': 1000}),\n",
       " (10, 11, {'beta': 10, 'myosin': 1000}),\n",
       " (10, 12, {'beta': 10, 'myosin': 1000}),\n",
       " (11, 12, {'beta': 0, 'myosin': 0}),\n",
       " (12, 18, {'beta': 0, 'myosin': 0}),\n",
       " (13, 16, {'beta': 10, 'myosin': 1000}),\n",
       " (13, 17, {'beta': 10, 'myosin': 1000}),\n",
       " (13, 18, {'beta': 10, 'myosin': 1000}),\n",
       " (13, 19, {'beta': 10, 'myosin': 1000}),\n",
       " (13, 14, {'beta': 10, 'myosin': 1000}),\n",
       " (13, 15, {'beta': 10, 'myosin': 1000}),\n",
       " (14, 19, {'beta': 0, 'myosin': 0}),\n",
       " (14, 15, {'beta': 0, 'myosin': 0}),\n",
       " (15, 16, {'beta': 0, 'myosin': 0}),\n",
       " (16, 17, {'beta': 0, 'myosin': 0}),\n",
       " (17, 18, {'beta': 0, 'myosin': 0}),\n",
       " (18, 19, {'beta': 0, 'myosin': 0})]"
      ]
     },
     "execution_count": 19,
     "metadata": {},
     "output_type": "execute_result"
    }
   ],
   "source": [
    "list(H.nodes(data=True))\n",
    "list(G.edges(data=True))"
   ]
  },
  {
   "cell_type": "code",
   "execution_count": 20,
   "metadata": {
    "collapsed": false,
    "scrolled": true
   },
   "outputs": [
    {
     "name": "stdout",
     "output_type": "stream",
     "text": [
      "{'center': True, 'pos': (0, 0)}\n",
      "{'center': True, 'pos': (0, 0)}\n",
      "{'center': True, 'pos': (0, 0)}\n",
      "{'center': True, 'pos': (0, 0)}\n",
      "{'center': True, 'pos': (0, 0)}\n",
      "{'center': True, 'pos': (0, 0)}\n",
      "{'center': False, 'pos': (1, 0)}\n",
      "{'center': False, 'pos': (1, 0)}\n",
      "{'center': False, 'pos': (0.50000000000000011, 0.8660254037844386)}\n",
      "{'center': False, 'pos': (0.50000000000000011, -0.8660254037844386)}\n",
      "{'center': True, 'pos': (1.5, 0.86602540378443871)}\n",
      "{'center': True, 'pos': (1.5, 0.86602540378443871)}\n",
      "{'center': True, 'pos': (1.5, 0.86602540378443871)}\n",
      "{'center': True, 'pos': (1.5, 0.86602540378443871)}\n",
      "{'center': True, 'pos': (1.5, -0.86602540378443871)}\n",
      "{'center': True, 'pos': (1.5, -0.86602540378443871)}\n",
      "{'center': True, 'pos': (1.5, -0.86602540378443871)}\n",
      "{'center': True, 'pos': (1.5, -0.86602540378443871)}\n",
      "{'center': True, 'pos': (3.0, 0)}\n",
      "{'center': True, 'pos': (3.0, 0)}\n",
      "{'center': True, 'pos': (3.0, 0)}\n",
      "{'center': True, 'pos': (3.0, 0)}\n",
      "{'center': True, 'pos': (3.0, 0)}\n",
      "{'center': True, 'pos': (3.0, 0)}\n"
     ]
    }
   ],
   "source": [
    "for edge in G.edges_iter(data=True):\n",
    "    if edge[2]['beta'] != 0:\n",
    "        print(G.node[edge[0]])"
   ]
  },
  {
   "cell_type": "code",
   "execution_count": 21,
   "metadata": {
    "collapsed": false
   },
   "outputs": [
    {
     "data": {
      "text/plain": [
       "True"
      ]
     },
     "execution_count": 21,
     "metadata": {},
     "output_type": "execute_result"
    }
   ],
   "source": [
    "len(G.neighbors(0)) >= len(G.neighbors(1))"
   ]
  },
  {
   "cell_type": "code",
   "execution_count": 22,
   "metadata": {
    "collapsed": false
   },
   "outputs": [
    {
     "name": "stdout",
     "output_type": "stream",
     "text": [
      "1010\n",
      "1.0\n",
      "1010\n",
      "1.0\n",
      "1010\n",
      "0.9999999999999999\n",
      "1010\n",
      "1.0\n",
      "1010\n",
      "1.0\n",
      "1010\n",
      "1.0\n",
      "1000\n",
      "1.0\n",
      "1000\n",
      "1.0\n",
      "1000\n",
      "0.9999999999999999\n",
      "1000\n",
      "1.0\n",
      "1000\n",
      "0.9999999999999999\n",
      "1000\n",
      "0.9999999999999999\n",
      "1000\n",
      "1.0000000000000002\n",
      "1000\n",
      "0.9999999999999996\n",
      "1000\n",
      "0.9999999999999999\n",
      "1000\n",
      "1.0\n",
      "1000\n",
      "1.0\n",
      "1000\n",
      "0.9999999999999999\n",
      "1000\n",
      "1.0\n",
      "1000\n",
      "1.0\n",
      "1000\n",
      "1.0\n",
      "1000\n",
      "1.0\n",
      "1000\n",
      "1.0\n",
      "1000\n",
      "1.0\n"
     ]
    },
    {
     "data": {
      "text/plain": [
       "[(0, 1, {'beta': 10, 'myosin': 20}),\n",
       " (0, 2, {'beta': 10, 'myosin': 20}),\n",
       " (0, 3, {'beta': 10, 'myosin': 20}),\n",
       " (0, 4, {'beta': 10, 'myosin': 20}),\n",
       " (0, 5, {'beta': 10, 'myosin': 20}),\n",
       " (0, 6, {'beta': 10, 'myosin': 20}),\n",
       " (1, 17, {'beta': 0, 'myosin': 0}),\n",
       " (1, 2, {'beta': 0, 'myosin': 0}),\n",
       " (1, 6, {'beta': 0, 'myosin': 0}),\n",
       " (1, 7, {'beta': 10, 'myosin': 20}),\n",
       " (1, 10, {'beta': 10, 'myosin': 20}),\n",
       " (2, 3, {'beta': 0, 'myosin': 0}),\n",
       " (2, 7, {'beta': 10, 'myosin': 20}),\n",
       " (2, 9, {'beta': 0, 'myosin': 0}),\n",
       " (3, 4, {'beta': 0, 'myosin': 0}),\n",
       " (4, 5, {'beta': 0, 'myosin': 0}),\n",
       " (5, 6, {'beta': 0, 'myosin': 0}),\n",
       " (6, 10, {'beta': 10, 'myosin': 20}),\n",
       " (6, 11, {'beta': 0, 'myosin': 0}),\n",
       " (7, 16, {'beta': 10, 'myosin': 20}),\n",
       " (7, 17, {'beta': 10, 'myosin': 20}),\n",
       " (7, 8, {'beta': 10, 'myosin': 20}),\n",
       " (7, 9, {'beta': 10, 'myosin': 20}),\n",
       " (8, 16, {'beta': 0, 'myosin': 0}),\n",
       " (8, 9, {'beta': 0, 'myosin': 0}),\n",
       " (10, 17, {'beta': 10, 'myosin': 20}),\n",
       " (10, 18, {'beta': 10, 'myosin': 20}),\n",
       " (10, 11, {'beta': 10, 'myosin': 20}),\n",
       " (10, 12, {'beta': 10, 'myosin': 20}),\n",
       " (11, 12, {'beta': 0, 'myosin': 0}),\n",
       " (12, 18, {'beta': 0, 'myosin': 0}),\n",
       " (13, 16, {'beta': 10, 'myosin': 20}),\n",
       " (13, 17, {'beta': 10, 'myosin': 20}),\n",
       " (13, 18, {'beta': 10, 'myosin': 20}),\n",
       " (13, 19, {'beta': 10, 'myosin': 20}),\n",
       " (13, 14, {'beta': 10, 'myosin': 20}),\n",
       " (13, 15, {'beta': 10, 'myosin': 20}),\n",
       " (14, 19, {'beta': 0, 'myosin': 0}),\n",
       " (14, 15, {'beta': 0, 'myosin': 0}),\n",
       " (15, 16, {'beta': 0, 'myosin': 0}),\n",
       " (16, 17, {'beta': 0, 'myosin': 0}),\n",
       " (17, 18, {'beta': 0, 'myosin': 0}),\n",
       " (18, 19, {'beta': 0, 'myosin': 0})]"
      ]
     },
     "execution_count": 22,
     "metadata": {},
     "output_type": "execute_result"
    }
   ],
   "source": [
    "for center in G.nodes_iter(data=True):\n",
    "    if center[1]['center']==True:\n",
    "        for neighbor in G.neighbors(center[0]):\n",
    "            print(G[center[0]][neighbor]['myosin'])\n",
    "            G[center[0]][neighbor]['myosin'] = 20\n",
    "            print(distance.euclidean(G.node[center[0]]['pos'],G.node[neighbor]['pos']))\n",
    "G.edges(data=True)            "
   ]
  },
  {
   "cell_type": "code",
   "execution_count": 23,
   "metadata": {
    "collapsed": false
   },
   "outputs": [
    {
     "data": {
      "image/png": "[encoded data removed]",
      "text/plain": [
       "<matplotlib.figure.Figure at 0x7f9b38ebe7b8>"
      ]
     },
     "metadata": {},
     "output_type": "display_data"
    }
   ],
   "source": [
    "plt.matshow(nx.adjacency_matrix(G).A)\n",
    "plt.show()"
   ]
  },
  {
   "cell_type": "code",
   "execution_count": 25,
   "metadata": {
    "collapsed": false
   },
   "outputs": [],
   "source": [
    "# iterate over all nodes in graph\n",
    "for point in G.nodes_iter():\n",
    "    # iterate over all neighbors of node\n",
    "    total_force = [0,0]\n",
    "    for neighbor in G.neighbors(point):\n",
    "        # calculate the unit vector from node to neighbor\n",
    "        dir_vector = unit_vector(G.node[point]['pos'],G.node[neighbor]['pos'])\n",
    "        # calculate magnitude of force\n",
    "        length = distance.euclidean(G.node[point]['pos'],G.node[neighbor]['pos'])\n",
    "        mag_force = calc_force(length,G[point][neighbor]['myosin'],G[point][neighbor]['beta'])\n",
    "        total_force = np.sum([total_force,mag_force*np.array(dir_vector)],axis=0)\n",
    "    # update location using force\n",
    "\n",
    "        "
   ]
  },
  {
   "cell_type": "code",
   "execution_count": null,
   "metadata": {
    "collapsed": true
   },
   "outputs": [],
   "source": []
  },
  {
   "cell_type": "code",
   "execution_count": null,
   "metadata": {
    "collapsed": true
   },
   "outputs": [],
   "source": []
  }
 ],
 "metadata": {
  "kernelspec": {
   "display_name": "Python 3",
   "language": "python",
   "name": "python3"
  },
  "language_info": {
   "codemirror_mode": {
    "name": "ipython",
    "version": 3
   },
   "file_extension": ".py",
   "mimetype": "text/x-python",
   "name": "python",
   "nbconvert_exporter": "python",
   "pygments_lexer": "ipython3",
   "version": "3.5.1"
  }
 },
 "nbformat": 4,
 "nbformat_minor": 0
}
