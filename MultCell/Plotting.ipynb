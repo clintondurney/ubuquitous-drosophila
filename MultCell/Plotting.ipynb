{
 "cells": [
  {
   "cell_type": "code",
   "execution_count": 1,
   "metadata": {
    "collapsed": false
   },
   "outputs": [],
   "source": [
    "import pandas as pd\n",
    "import matplotlib.pyplot as plt\n",
    "import numpy as np\n",
    "\n",
    "# %matplotlib notebook\n",
    "\n",
    "df_bio = pd.read_csv('BioParams.csv',delimiter='\\t')\n"
   ]
  },
  {
   "cell_type": "code",
   "execution_count": 2,
   "metadata": {
    "collapsed": false
   },
   "outputs": [],
   "source": [
    "time = df_bio['time']"
   ]
  },
  {
   "cell_type": "code",
   "execution_count": 3,
   "metadata": {
    "collapsed": false
   },
   "outputs": [
    {
     "data": {
      "text/html": [
       "<div>\n",
       "<table border=\"1\" class=\"dataframe\">\n",
       "  <thead>\n",
       "    <tr style=\"text-align: right;\">\n",
       "      <th></th>\n",
       "      <th>time</th>\n",
       "      <th>Reg</th>\n",
       "      <th>myo0_1</th>\n",
       "      <th>myo1_17</th>\n",
       "      <th>myo1_7</th>\n",
       "      <th>myo17_13</th>\n",
       "      <th>myo1_10</th>\n",
       "      <th>myo10_17</th>\n",
       "    </tr>\n",
       "  </thead>\n",
       "  <tbody>\n",
       "    <tr>\n",
       "      <th>0</th>\n",
       "      <td>822.554345</td>\n",
       "      <td>57.957771</td>\n",
       "      <td>2.309292</td>\n",
       "      <td>0</td>\n",
       "      <td>0.138027</td>\n",
       "      <td>2.309292</td>\n",
       "      <td>0.138027</td>\n",
       "      <td>0.138027</td>\n",
       "    </tr>\n",
       "    <tr>\n",
       "      <th>1</th>\n",
       "      <td>823.554345</td>\n",
       "      <td>60.070851</td>\n",
       "      <td>22.605638</td>\n",
       "      <td>0</td>\n",
       "      <td>0.100719</td>\n",
       "      <td>22.605638</td>\n",
       "      <td>0.100719</td>\n",
       "      <td>0.100719</td>\n",
       "    </tr>\n",
       "    <tr>\n",
       "      <th>2</th>\n",
       "      <td>824.554345</td>\n",
       "      <td>62.275483</td>\n",
       "      <td>20.997829</td>\n",
       "      <td>0</td>\n",
       "      <td>0.116540</td>\n",
       "      <td>20.997829</td>\n",
       "      <td>0.116540</td>\n",
       "      <td>0.116540</td>\n",
       "    </tr>\n",
       "    <tr>\n",
       "      <th>3</th>\n",
       "      <td>825.554345</td>\n",
       "      <td>64.573477</td>\n",
       "      <td>19.572354</td>\n",
       "      <td>0</td>\n",
       "      <td>0.134206</td>\n",
       "      <td>19.572354</td>\n",
       "      <td>0.134206</td>\n",
       "      <td>0.134206</td>\n",
       "    </tr>\n",
       "    <tr>\n",
       "      <th>4</th>\n",
       "      <td>826.554345</td>\n",
       "      <td>66.966302</td>\n",
       "      <td>18.333810</td>\n",
       "      <td>0</td>\n",
       "      <td>0.153884</td>\n",
       "      <td>18.333810</td>\n",
       "      <td>0.153884</td>\n",
       "      <td>0.153884</td>\n",
       "    </tr>\n",
       "  </tbody>\n",
       "</table>\n",
       "</div>"
      ],
      "text/plain": [
       "         time        Reg     myo0_1  myo1_17    myo1_7   myo17_13   myo1_10  \\\n",
       "0  822.554345  57.957771   2.309292        0  0.138027   2.309292  0.138027   \n",
       "1  823.554345  60.070851  22.605638        0  0.100719  22.605638  0.100719   \n",
       "2  824.554345  62.275483  20.997829        0  0.116540  20.997829  0.116540   \n",
       "3  825.554345  64.573477  19.572354        0  0.134206  19.572354  0.134206   \n",
       "4  826.554345  66.966302  18.333810        0  0.153884  18.333810  0.153884   \n",
       "\n",
       "   myo10_17  \n",
       "0  0.138027  \n",
       "1  0.100719  \n",
       "2  0.116540  \n",
       "3  0.134206  \n",
       "4  0.153884  "
      ]
     },
     "execution_count": 3,
     "metadata": {},
     "output_type": "execute_result"
    }
   ],
   "source": [
    "df_bio.head()"
   ]
  },
  {
   "cell_type": "code",
   "execution_count": 4,
   "metadata": {
    "collapsed": false
   },
   "outputs": [
    {
     "data": {
      "text/html": [
       "<div>\n",
       "<table border=\"1\" class=\"dataframe\">\n",
       "  <thead>\n",
       "    <tr style=\"text-align: right;\">\n",
       "      <th></th>\n",
       "      <th>time</th>\n",
       "      <th>Reg</th>\n",
       "      <th>myo0_1</th>\n",
       "      <th>myo1_17</th>\n",
       "      <th>myo1_7</th>\n",
       "      <th>myo17_13</th>\n",
       "      <th>myo1_10</th>\n",
       "      <th>myo10_17</th>\n",
       "    </tr>\n",
       "  </thead>\n",
       "  <tbody>\n",
       "    <tr>\n",
       "      <th>4973</th>\n",
       "      <td>5791.953655</td>\n",
       "      <td>301.182040</td>\n",
       "      <td>3.134216</td>\n",
       "      <td>0</td>\n",
       "      <td>18.108763</td>\n",
       "      <td>3.134216</td>\n",
       "      <td>18.109011</td>\n",
       "      <td>18.108763</td>\n",
       "    </tr>\n",
       "    <tr>\n",
       "      <th>4974</th>\n",
       "      <td>5792.953655</td>\n",
       "      <td>301.340757</td>\n",
       "      <td>3.328413</td>\n",
       "      <td>0</td>\n",
       "      <td>17.068139</td>\n",
       "      <td>3.328413</td>\n",
       "      <td>17.068471</td>\n",
       "      <td>17.068139</td>\n",
       "    </tr>\n",
       "    <tr>\n",
       "      <th>4975</th>\n",
       "      <td>5793.953655</td>\n",
       "      <td>301.496089</td>\n",
       "      <td>3.532199</td>\n",
       "      <td>0</td>\n",
       "      <td>16.098177</td>\n",
       "      <td>3.532199</td>\n",
       "      <td>16.098608</td>\n",
       "      <td>16.098177</td>\n",
       "    </tr>\n",
       "    <tr>\n",
       "      <th>4976</th>\n",
       "      <td>5794.953655</td>\n",
       "      <td>301.648086</td>\n",
       "      <td>3.746091</td>\n",
       "      <td>0</td>\n",
       "      <td>15.192686</td>\n",
       "      <td>3.746091</td>\n",
       "      <td>15.193231</td>\n",
       "      <td>15.192686</td>\n",
       "    </tr>\n",
       "    <tr>\n",
       "      <th>4977</th>\n",
       "      <td>5795.953655</td>\n",
       "      <td>301.796797</td>\n",
       "      <td>3.970641</td>\n",
       "      <td>0</td>\n",
       "      <td>14.000000</td>\n",
       "      <td>NaN</td>\n",
       "      <td>NaN</td>\n",
       "      <td>NaN</td>\n",
       "    </tr>\n",
       "  </tbody>\n",
       "</table>\n",
       "</div>"
      ],
      "text/plain": [
       "             time         Reg    myo0_1  myo1_17     myo1_7  myo17_13  \\\n",
       "4973  5791.953655  301.182040  3.134216        0  18.108763  3.134216   \n",
       "4974  5792.953655  301.340757  3.328413        0  17.068139  3.328413   \n",
       "4975  5793.953655  301.496089  3.532199        0  16.098177  3.532199   \n",
       "4976  5794.953655  301.648086  3.746091        0  15.192686  3.746091   \n",
       "4977  5795.953655  301.796797  3.970641        0  14.000000       NaN   \n",
       "\n",
       "        myo1_10   myo10_17  \n",
       "4973  18.109011  18.108763  \n",
       "4974  17.068471  17.068139  \n",
       "4975  16.098608  16.098177  \n",
       "4976  15.193231  15.192686  \n",
       "4977        NaN        NaN  "
      ]
     },
     "execution_count": 4,
     "metadata": {},
     "output_type": "execute_result"
    }
   ],
   "source": [
    "df_bio.tail()"
   ]
  },
  {
   "cell_type": "code",
   "execution_count": 5,
   "metadata": {
    "collapsed": false
   },
   "outputs": [],
   "source": [
    "plt.figure(1)\n",
    "plt.title('Regulator')\n",
    "plt.plot(time,df_bio['Reg'])\n",
    "plt.xlim([time.min(),time.max()])\n",
    "plt.xlabel(\"time\")\n",
    "plt.ylabel(\"$\\mu M$\")\n",
    "plt.show()"
   ]
  },
  {
   "cell_type": "code",
   "execution_count": 6,
   "metadata": {
    "collapsed": false
   },
   "outputs": [],
   "source": [
    "plt.figure(2)\n",
    "plt.title('Myosin on Spoke 0-1')\n",
    "plt.plot(time,df_bio['myo0_1'])\n",
    "plt.xlim([time.min(),time.max()])\n",
    "plt.xlabel(\"time\")\n",
    "plt.ylabel(\"$\\mu M$\")\n",
    "plt.show()"
   ]
  },
  {
   "cell_type": "code",
   "execution_count": 7,
   "metadata": {
    "collapsed": false
   },
   "outputs": [],
   "source": [
    "plt.figure(3)\n",
    "plt.title('Myosin on Spoke 1-7')\n",
    "plt.plot(time,df_bio['myo1_7'])\n",
    "plt.xlim([time.min(),time.max()])\n",
    "plt.xlabel(\"time\")\n",
    "plt.ylabel(\"$\\mu M$\")\n",
    "plt.show()"
   ]
  },
  {
   "cell_type": "code",
   "execution_count": 8,
   "metadata": {
    "collapsed": false,
    "scrolled": true
   },
   "outputs": [],
   "source": [
    "plt.figure(4)\n",
    "plt.title('Myosin on Representative Spokes')\n",
    "plt.plot(time,df_bio['myo0_1'])\n",
    "plt.plot(time,df_bio['myo1_7'])\n",
    "plt.xlim([time.min(),time.max()])\n",
    "plt.xlabel(\"time\")\n",
    "plt.ylabel(\"$\\mu M$\")\n",
    "plt.legend()\n",
    "plt.show()"
   ]
  },
  {
   "cell_type": "code",
   "execution_count": null,
   "metadata": {
    "collapsed": true
   },
   "outputs": [],
   "source": [
    "df_bio.tail()"
   ]
  },
  {
   "cell_type": "code",
   "execution_count": null,
   "metadata": {
    "collapsed": false
   },
   "outputs": [],
   "source": [
    "fig, ax1 = plt.subplots()\n",
    "plt.title('')\n",
    "ax1.plot(time,df_bio.myo0,'b-')\n",
    "ax1.set_xlabel('time (s)')\n",
    "ax1.set_ylabel('Myosin', color='b')\n",
    "for tl in ax1.get_yticklabels():\n",
    "    tl.set_color('b')\n",
    "    \n",
    "ax2 = ax1.twinx()\n",
    "ax2.plot(time, df_bio.force0, 'r-')\n",
    "ax2.set_ylabel('Force', color='r')\n",
    "for tl in ax2.get_yticklabels():\n",
    "    tl.set_color('r')\n",
    "plt.show()"
   ]
  },
  {
   "cell_type": "code",
   "execution_count": null,
   "metadata": {
    "collapsed": false
   },
   "outputs": [],
   "source": [
    "dt = np.diff(time)"
   ]
  },
  {
   "cell_type": "code",
   "execution_count": null,
   "metadata": {
    "collapsed": false
   },
   "outputs": [],
   "source": [
    "print(\"The max dt used was: \", np.amax(dt))\n",
    "print(\"The min dt used was: \", np.amin(dt))\n",
    "print(\"The mean dt used was:\", np.mean(dt))\n",
    "np.mean(dt)*10"
   ]
  },
  {
   "cell_type": "code",
   "execution_count": null,
   "metadata": {
    "collapsed": false
   },
   "outputs": [],
   "source": [
    "%matplotlib auto\n",
    "p0 = (x0[0],y0[0])\n",
    "p1 = (x1[0],y1[0])\n",
    "p2 = (x2[0],y2[0])\n",
    "p3 = (x3[0],y3[0])\n",
    "p4 = (x4[0],y4[0])\n",
    "p5 = (x5[0],y5[0])\n",
    "\n",
    "nodes = [p0,p1,p2,p3,p4,p5]\n",
    "\n",
    "G = nx.Graph()\n",
    "\n",
    "i = 0\n",
    "for node in nodes:\n",
    "    G.add_node(i,{'pos':node,'cell':1})\n",
    "#    G.add_edge('medial',i,{'name':1})\n",
    "    i += 1\n",
    "G.add_path([0,1,2,3,4,5,0])\n",
    "\n",
    "fig = plt.figure()\n",
    "\n",
    "pos = nx.get_node_attributes(G,'pos')\n",
    "\n",
    "nx.draw(G,pos)\n",
    "plt.title(\"Time\")\n",
    "plt.xlim(-2,2)\n",
    "plt.ylim(-2,2)\n",
    "plt.axis(\"on\")\n",
    "plt.grid(\"on\")\n",
    "\n",
    "for i in range(1,len(time),1000):\n",
    "    G.node[0]['pos'] = (x0[i],y0[i])\n",
    "    G.node[1]['pos'] = (x1[i],y1[i])\n",
    "    G.node[2]['pos'] = (x2[i],y2[i])\n",
    "    G.node[3]['pos'] = (x3[i],y3[i])\n",
    "    G.node[4]['pos'] = (x4[i],y4[i])\n",
    "    G.node[5]['pos'] = (x5[i],y5[i])\n",
    "\n",
    "    pos = nx.get_node_attributes(G,'pos')\n",
    "    nx.draw(G,pos)\n",
    "    plt.title('Time')\n",
    "    plt.xlim(-2,2)\n",
    "    plt.ylim(-2,2)\n",
    "    plt.axis(\"on\")\n",
    "    plt.grid(\"on\")\n",
    "    plt.pause(0.5)\n",
    "\n",
    "plt.show()"
   ]
  },
  {
   "cell_type": "code",
   "execution_count": null,
   "metadata": {
    "collapsed": true
   },
   "outputs": [],
   "source": []
  }
 ],
 "metadata": {
  "kernelspec": {
   "display_name": "Python 3",
   "language": "python",
   "name": "python3"
  },
  "language_info": {
   "codemirror_mode": {
    "name": "ipython",
    "version": 3
   },
   "file_extension": ".py",
   "mimetype": "text/x-python",
   "name": "python",
   "nbconvert_exporter": "python",
   "pygments_lexer": "ipython3",
   "version": "3.5.1"
  }
 },
 "nbformat": 4,
 "nbformat_minor": 0
}
