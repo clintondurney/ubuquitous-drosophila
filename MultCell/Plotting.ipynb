{
 "cells": [
  {
   "cell_type": "code",
   "execution_count": 1,
   "metadata": {
    "collapsed": false
   },
   "outputs": [],
   "source": [
    "import pandas as pd\n",
    "import matplotlib.pyplot as plt\n",
    "import numpy as np\n",
    "\n",
    "# %matplotlib notebook\n",
    "%matplotlib inline\n",
    "\n",
    "df_myosin = pd.read_csv('myosin.csv',delimiter='\\t')\n",
    "df_area = pd.read_csv('cellarea.csv',delimiter='\\t')\n",
    "df_reg = pd.read_csv('reg.csv',delimiter='\\t')\n"
   ]
  },
  {
   "cell_type": "code",
   "execution_count": 2,
   "metadata": {
    "collapsed": false
   },
   "outputs": [],
   "source": [
    "time = df_area['time']"
   ]
  },
  {
   "cell_type": "code",
   "execution_count": 3,
   "metadata": {
    "collapsed": false
   },
   "outputs": [
    {
     "data": {
      "text/html": [
       "<div>\n",
       "<table border=\"1\" class=\"dataframe\">\n",
       "  <thead>\n",
       "    <tr style=\"text-align: right;\">\n",
       "      <th></th>\n",
       "      <th>time</th>\n",
       "      <th>cell0</th>\n",
       "      <th>cell7</th>\n",
       "      <th>cell12</th>\n",
       "      <th>cell17</th>\n",
       "      <th>cell22</th>\n",
       "      <th>cell27</th>\n",
       "      <th>cell32</th>\n",
       "      <th>cell37</th>\n",
       "      <th>cell42</th>\n",
       "      <th>...</th>\n",
       "      <th>cell245</th>\n",
       "      <th>cell248</th>\n",
       "      <th>cell251</th>\n",
       "      <th>cell254</th>\n",
       "      <th>cell257</th>\n",
       "      <th>cell261</th>\n",
       "      <th>cell264</th>\n",
       "      <th>cell268</th>\n",
       "      <th>cell271</th>\n",
       "      <th>cell275</th>\n",
       "    </tr>\n",
       "  </thead>\n",
       "  <tbody>\n",
       "    <tr>\n",
       "      <th>0</th>\n",
       "      <td>0.0</td>\n",
       "      <td>5857.012775</td>\n",
       "      <td>5857.012775</td>\n",
       "      <td>5857.012775</td>\n",
       "      <td>5857.012775</td>\n",
       "      <td>5857.012775</td>\n",
       "      <td>5857.012775</td>\n",
       "      <td>5857.012775</td>\n",
       "      <td>5857.012775</td>\n",
       "      <td>5857.012775</td>\n",
       "      <td>...</td>\n",
       "      <td>5857.012775</td>\n",
       "      <td>5857.012775</td>\n",
       "      <td>5857.012775</td>\n",
       "      <td>5857.012775</td>\n",
       "      <td>5857.012775</td>\n",
       "      <td>5857.012775</td>\n",
       "      <td>5857.012775</td>\n",
       "      <td>5857.012775</td>\n",
       "      <td>5857.012775</td>\n",
       "      <td>5857.012775</td>\n",
       "    </tr>\n",
       "    <tr>\n",
       "      <th>1</th>\n",
       "      <td>0.1</td>\n",
       "      <td>5717.388859</td>\n",
       "      <td>5717.388859</td>\n",
       "      <td>5717.388859</td>\n",
       "      <td>5717.388859</td>\n",
       "      <td>5717.388859</td>\n",
       "      <td>5717.388859</td>\n",
       "      <td>5717.388859</td>\n",
       "      <td>5717.388859</td>\n",
       "      <td>5717.388859</td>\n",
       "      <td>...</td>\n",
       "      <td>5717.388859</td>\n",
       "      <td>5717.388859</td>\n",
       "      <td>5717.388859</td>\n",
       "      <td>5717.388859</td>\n",
       "      <td>5717.388859</td>\n",
       "      <td>5717.388859</td>\n",
       "      <td>5717.388859</td>\n",
       "      <td>5717.388859</td>\n",
       "      <td>5717.388859</td>\n",
       "      <td>5717.388859</td>\n",
       "    </tr>\n",
       "    <tr>\n",
       "      <th>2</th>\n",
       "      <td>0.2</td>\n",
       "      <td>5581.051215</td>\n",
       "      <td>5581.051215</td>\n",
       "      <td>5581.051215</td>\n",
       "      <td>5581.051215</td>\n",
       "      <td>5581.051215</td>\n",
       "      <td>5581.051215</td>\n",
       "      <td>5581.051215</td>\n",
       "      <td>5581.051215</td>\n",
       "      <td>5581.051215</td>\n",
       "      <td>...</td>\n",
       "      <td>5581.051215</td>\n",
       "      <td>5581.051215</td>\n",
       "      <td>5581.051215</td>\n",
       "      <td>5581.051215</td>\n",
       "      <td>5581.051215</td>\n",
       "      <td>5581.051215</td>\n",
       "      <td>5581.051215</td>\n",
       "      <td>5581.051215</td>\n",
       "      <td>5581.051215</td>\n",
       "      <td>5581.051215</td>\n",
       "    </tr>\n",
       "    <tr>\n",
       "      <th>3</th>\n",
       "      <td>0.3</td>\n",
       "      <td>5447.924470</td>\n",
       "      <td>5447.924470</td>\n",
       "      <td>5447.924470</td>\n",
       "      <td>5447.924470</td>\n",
       "      <td>5447.924470</td>\n",
       "      <td>5447.924470</td>\n",
       "      <td>5447.924470</td>\n",
       "      <td>5447.924470</td>\n",
       "      <td>5447.924470</td>\n",
       "      <td>...</td>\n",
       "      <td>5447.924470</td>\n",
       "      <td>5447.924470</td>\n",
       "      <td>5447.924470</td>\n",
       "      <td>5447.924470</td>\n",
       "      <td>5447.924470</td>\n",
       "      <td>5447.924470</td>\n",
       "      <td>5447.924470</td>\n",
       "      <td>5447.924470</td>\n",
       "      <td>5447.924470</td>\n",
       "      <td>5447.924470</td>\n",
       "    </tr>\n",
       "    <tr>\n",
       "      <th>4</th>\n",
       "      <td>0.4</td>\n",
       "      <td>5317.934890</td>\n",
       "      <td>5317.934890</td>\n",
       "      <td>5317.934890</td>\n",
       "      <td>5317.934890</td>\n",
       "      <td>5317.934890</td>\n",
       "      <td>5317.934890</td>\n",
       "      <td>5317.934890</td>\n",
       "      <td>5317.934890</td>\n",
       "      <td>5317.934890</td>\n",
       "      <td>...</td>\n",
       "      <td>5317.934890</td>\n",
       "      <td>5317.934890</td>\n",
       "      <td>5317.934890</td>\n",
       "      <td>5317.934890</td>\n",
       "      <td>5317.934890</td>\n",
       "      <td>5317.934890</td>\n",
       "      <td>5317.934890</td>\n",
       "      <td>5317.934890</td>\n",
       "      <td>5317.934890</td>\n",
       "      <td>5317.934890</td>\n",
       "    </tr>\n",
       "  </tbody>\n",
       "</table>\n",
       "<p>5 rows × 82 columns</p>\n",
       "</div>"
      ],
      "text/plain": [
       "   time        cell0        cell7       cell12       cell17       cell22  \\\n",
       "0   0.0  5857.012775  5857.012775  5857.012775  5857.012775  5857.012775   \n",
       "1   0.1  5717.388859  5717.388859  5717.388859  5717.388859  5717.388859   \n",
       "2   0.2  5581.051215  5581.051215  5581.051215  5581.051215  5581.051215   \n",
       "3   0.3  5447.924470  5447.924470  5447.924470  5447.924470  5447.924470   \n",
       "4   0.4  5317.934890  5317.934890  5317.934890  5317.934890  5317.934890   \n",
       "\n",
       "        cell27       cell32       cell37       cell42     ...       \\\n",
       "0  5857.012775  5857.012775  5857.012775  5857.012775     ...        \n",
       "1  5717.388859  5717.388859  5717.388859  5717.388859     ...        \n",
       "2  5581.051215  5581.051215  5581.051215  5581.051215     ...        \n",
       "3  5447.924470  5447.924470  5447.924470  5447.924470     ...        \n",
       "4  5317.934890  5317.934890  5317.934890  5317.934890     ...        \n",
       "\n",
       "       cell245      cell248      cell251      cell254      cell257  \\\n",
       "0  5857.012775  5857.012775  5857.012775  5857.012775  5857.012775   \n",
       "1  5717.388859  5717.388859  5717.388859  5717.388859  5717.388859   \n",
       "2  5581.051215  5581.051215  5581.051215  5581.051215  5581.051215   \n",
       "3  5447.924470  5447.924470  5447.924470  5447.924470  5447.924470   \n",
       "4  5317.934890  5317.934890  5317.934890  5317.934890  5317.934890   \n",
       "\n",
       "       cell261      cell264      cell268      cell271      cell275  \n",
       "0  5857.012775  5857.012775  5857.012775  5857.012775  5857.012775  \n",
       "1  5717.388859  5717.388859  5717.388859  5717.388859  5717.388859  \n",
       "2  5581.051215  5581.051215  5581.051215  5581.051215  5581.051215  \n",
       "3  5447.924470  5447.924470  5447.924470  5447.924470  5447.924470  \n",
       "4  5317.934890  5317.934890  5317.934890  5317.934890  5317.934890  \n",
       "\n",
       "[5 rows x 82 columns]"
      ]
     },
     "execution_count": 3,
     "metadata": {},
     "output_type": "execute_result"
    }
   ],
   "source": [
    "df_myosin.head()"
   ]
  },
  {
   "cell_type": "code",
   "execution_count": 4,
   "metadata": {
    "collapsed": false
   },
   "outputs": [
    {
     "data": {
      "text/html": [
       "<div>\n",
       "<table border=\"1\" class=\"dataframe\">\n",
       "  <thead>\n",
       "    <tr style=\"text-align: right;\">\n",
       "      <th></th>\n",
       "      <th>time</th>\n",
       "      <th>cell0</th>\n",
       "      <th>cell7</th>\n",
       "      <th>cell12</th>\n",
       "      <th>cell17</th>\n",
       "      <th>cell22</th>\n",
       "      <th>cell27</th>\n",
       "      <th>cell32</th>\n",
       "      <th>cell37</th>\n",
       "      <th>cell42</th>\n",
       "      <th>...</th>\n",
       "      <th>cell245</th>\n",
       "      <th>cell248</th>\n",
       "      <th>cell251</th>\n",
       "      <th>cell254</th>\n",
       "      <th>cell257</th>\n",
       "      <th>cell261</th>\n",
       "      <th>cell264</th>\n",
       "      <th>cell268</th>\n",
       "      <th>cell271</th>\n",
       "      <th>cell275</th>\n",
       "    </tr>\n",
       "  </thead>\n",
       "  <tbody>\n",
       "    <tr>\n",
       "      <th>3195</th>\n",
       "      <td>319.5</td>\n",
       "      <td>507.302419</td>\n",
       "      <td>29644.924887</td>\n",
       "      <td>199.981264</td>\n",
       "      <td>13387.442262</td>\n",
       "      <td>2127.634073</td>\n",
       "      <td>53535.729041</td>\n",
       "      <td>42050.161961</td>\n",
       "      <td>49598.136540</td>\n",
       "      <td>68110.346061</td>\n",
       "      <td>...</td>\n",
       "      <td>9085.360240</td>\n",
       "      <td>13201.206303</td>\n",
       "      <td>2359.466627</td>\n",
       "      <td>67234.879104</td>\n",
       "      <td>67695.889431</td>\n",
       "      <td>56807.387132</td>\n",
       "      <td>32493.949161</td>\n",
       "      <td>1933.727116</td>\n",
       "      <td>66688.346893</td>\n",
       "      <td>143.958362</td>\n",
       "    </tr>\n",
       "    <tr>\n",
       "      <th>3196</th>\n",
       "      <td>319.6</td>\n",
       "      <td>518.099600</td>\n",
       "      <td>29455.459325</td>\n",
       "      <td>201.389304</td>\n",
       "      <td>13474.927571</td>\n",
       "      <td>2084.672910</td>\n",
       "      <td>53619.939879</td>\n",
       "      <td>42146.648278</td>\n",
       "      <td>49690.946348</td>\n",
       "      <td>68140.968494</td>\n",
       "      <td>...</td>\n",
       "      <td>9169.007983</td>\n",
       "      <td>13288.513379</td>\n",
       "      <td>2311.484647</td>\n",
       "      <td>67195.498849</td>\n",
       "      <td>67734.349571</td>\n",
       "      <td>56697.960502</td>\n",
       "      <td>32588.568063</td>\n",
       "      <td>1894.957461</td>\n",
       "      <td>66733.516016</td>\n",
       "      <td>144.473079</td>\n",
       "    </tr>\n",
       "    <tr>\n",
       "      <th>3197</th>\n",
       "      <td>319.7</td>\n",
       "      <td>529.306105</td>\n",
       "      <td>29265.503524</td>\n",
       "      <td>202.824153</td>\n",
       "      <td>13562.464536</td>\n",
       "      <td>2042.658773</td>\n",
       "      <td>53703.999942</td>\n",
       "      <td>42243.118182</td>\n",
       "      <td>49783.647469</td>\n",
       "      <td>68171.261538</td>\n",
       "      <td>...</td>\n",
       "      <td>9252.758002</td>\n",
       "      <td>13375.875324</td>\n",
       "      <td>2264.564677</td>\n",
       "      <td>67155.673614</td>\n",
       "      <td>67772.488378</td>\n",
       "      <td>56588.059310</td>\n",
       "      <td>32683.219311</td>\n",
       "      <td>1857.042269</td>\n",
       "      <td>66778.386843</td>\n",
       "      <td>144.994957</td>\n",
       "    </tr>\n",
       "    <tr>\n",
       "      <th>3198</th>\n",
       "      <td>319.8</td>\n",
       "      <td>540.939625</td>\n",
       "      <td>29075.058508</td>\n",
       "      <td>204.286523</td>\n",
       "      <td>13650.052779</td>\n",
       "      <td>2001.569518</td>\n",
       "      <td>53787.906019</td>\n",
       "      <td>42339.569901</td>\n",
       "      <td>49876.239676</td>\n",
       "      <td>68201.221258</td>\n",
       "      <td>...</td>\n",
       "      <td>9336.608678</td>\n",
       "      <td>13463.290752</td>\n",
       "      <td>2218.681459</td>\n",
       "      <td>67115.401296</td>\n",
       "      <td>67810.305255</td>\n",
       "      <td>56477.682883</td>\n",
       "      <td>32777.902900</td>\n",
       "      <td>1819.964437</td>\n",
       "      <td>66822.955678</td>\n",
       "      <td>145.524105</td>\n",
       "    </tr>\n",
       "    <tr>\n",
       "      <th>3199</th>\n",
       "      <td>319.9</td>\n",
       "      <td>553.018441</td>\n",
       "      <td>28884.125497</td>\n",
       "      <td>205.777135</td>\n",
       "      <td>13737.692242</td>\n",
       "      <td>1961.384084</td>\n",
       "      <td>53871.657339</td>\n",
       "      <td>42436.000105</td>\n",
       "      <td>49968.724193</td>\n",
       "      <td>68230.846342</td>\n",
       "      <td>...</td>\n",
       "      <td>NaN</td>\n",
       "      <td>NaN</td>\n",
       "      <td>NaN</td>\n",
       "      <td>NaN</td>\n",
       "      <td>NaN</td>\n",
       "      <td>NaN</td>\n",
       "      <td>NaN</td>\n",
       "      <td>NaN</td>\n",
       "      <td>NaN</td>\n",
       "      <td>NaN</td>\n",
       "    </tr>\n",
       "  </tbody>\n",
       "</table>\n",
       "<p>5 rows × 82 columns</p>\n",
       "</div>"
      ],
      "text/plain": [
       "       time       cell0         cell7      cell12        cell17       cell22  \\\n",
       "3195  319.5  507.302419  29644.924887  199.981264  13387.442262  2127.634073   \n",
       "3196  319.6  518.099600  29455.459325  201.389304  13474.927571  2084.672910   \n",
       "3197  319.7  529.306105  29265.503524  202.824153  13562.464536  2042.658773   \n",
       "3198  319.8  540.939625  29075.058508  204.286523  13650.052779  2001.569518   \n",
       "3199  319.9  553.018441  28884.125497  205.777135  13737.692242  1961.384084   \n",
       "\n",
       "            cell27        cell32        cell37        cell42     ...      \\\n",
       "3195  53535.729041  42050.161961  49598.136540  68110.346061     ...       \n",
       "3196  53619.939879  42146.648278  49690.946348  68140.968494     ...       \n",
       "3197  53703.999942  42243.118182  49783.647469  68171.261538     ...       \n",
       "3198  53787.906019  42339.569901  49876.239676  68201.221258     ...       \n",
       "3199  53871.657339  42436.000105  49968.724193  68230.846342     ...       \n",
       "\n",
       "          cell245       cell248      cell251       cell254       cell257  \\\n",
       "3195  9085.360240  13201.206303  2359.466627  67234.879104  67695.889431   \n",
       "3196  9169.007983  13288.513379  2311.484647  67195.498849  67734.349571   \n",
       "3197  9252.758002  13375.875324  2264.564677  67155.673614  67772.488378   \n",
       "3198  9336.608678  13463.290752  2218.681459  67115.401296  67810.305255   \n",
       "3199          NaN           NaN          NaN           NaN           NaN   \n",
       "\n",
       "           cell261       cell264      cell268       cell271     cell275  \n",
       "3195  56807.387132  32493.949161  1933.727116  66688.346893  143.958362  \n",
       "3196  56697.960502  32588.568063  1894.957461  66733.516016  144.473079  \n",
       "3197  56588.059310  32683.219311  1857.042269  66778.386843  144.994957  \n",
       "3198  56477.682883  32777.902900  1819.964437  66822.955678  145.524105  \n",
       "3199           NaN           NaN          NaN           NaN         NaN  \n",
       "\n",
       "[5 rows x 82 columns]"
      ]
     },
     "execution_count": 4,
     "metadata": {},
     "output_type": "execute_result"
    }
   ],
   "source": [
    "df_myosin.tail()"
   ]
  },
  {
   "cell_type": "code",
   "execution_count": 15,
   "metadata": {
    "collapsed": false
   },
   "outputs": [],
   "source": [
    "tspan = [0,75]\n",
    "center_node = 7\n",
    "cell = 'cell' + str(center_node)\n"
   ]
  },
  {
   "cell_type": "code",
   "execution_count": 16,
   "metadata": {
    "collapsed": false
   },
   "outputs": [
    {
     "data": {
      "image/png": "[encoded data removed]",
      "text/plain": [
       "<matplotlib.figure.Figure at 0x7fcde3867fd0>"
      ]
     },
     "metadata": {},
     "output_type": "display_data"
    },
    {
     "data": {
      "image/png": "[encoded data removed]",
      "text/plain": [
       "<matplotlib.figure.Figure at 0x7fcde3a13f28>"
      ]
     },
     "metadata": {},
     "output_type": "display_data"
    },
    {
     "data": {
      "image/png": "[encoded data removed]",
      "text/plain": [
       "<matplotlib.figure.Figure at 0x7fcde3801e10>"
      ]
     },
     "metadata": {},
     "output_type": "display_data"
    }
   ],
   "source": [
    "plt.figure(1)\n",
    "plt.title('myosin')\n",
    "plt.plot(df_myosin['time'],df_myosin[cell])\n",
    "plt.xlim(tspan)\n",
    "plt.ylim([0,100000])\n",
    "plt.xlabel(\"time\")\n",
    "plt.ylabel(\"motors in cell\")\n",
    "plt.show()\n",
    "\n",
    "plt.figure(2)\n",
    "plt.title('area')\n",
    "plt.plot(df_area['time'],df_area[cell])\n",
    "plt.xlim(tspan)\n",
    "plt.ylim([100,200])\n",
    "plt.xlabel(\"time\")\n",
    "plt.ylabel(\"$\\mu m^2$\")\n",
    "plt.show()\n",
    "\n",
    "plt.figure(3)\n",
    "plt.title('reg')\n",
    "plt.plot(df_reg['time'],df_reg[cell])\n",
    "plt.xlim(tspan)\n",
    "plt.ylim([0,0.05])\n",
    "plt.xlabel(\"time\")\n",
    "plt.ylabel(\"$\\mu M$\")\n",
    "plt.show()"
   ]
  },
  {
   "cell_type": "code",
   "execution_count": 17,
   "metadata": {
    "collapsed": false
   },
   "outputs": [
    {
     "data": {
      "image/png": "[encoded data removed]",
      "text/plain": [
       "<matplotlib.figure.Figure at 0x7fcde3793e10>"
      ]
     },
     "metadata": {},
     "output_type": "display_data"
    }
   ],
   "source": [
    "fig, ax1 = plt.subplots()\n",
    "plt.title('area')\n",
    "ax1.plot(df_area['time'],df_area[cell],'b-')\n",
    "ax1.set_xlabel('time (s)')\n",
    "ax1.set_xlim([0,7500])\n",
    "ax1.set_ylim([100,200])\n",
    "ax1.set_ylabel('area', color='b')\n",
    "ax1.tick_params('y', colors='b')\n",
    "\n",
    "ax2 = ax1.twinx()\n",
    "ax2.plot(df_myosin['time'],df_myosin[cell],'r-')\n",
    "ax2.set_xlim([0,7500])\n",
    "ax2.set_ylim([0,100000])\n",
    "ax2.set_ylabel('myosin', color='r')\n",
    "ax2.tick_params('y', colors='r')\n",
    "fig.tight_layout()\n",
    "plt.show()"
   ]
  },
  {
   "cell_type": "code",
   "execution_count": 18,
   "metadata": {
    "collapsed": false
   },
   "outputs": [],
   "source": [
    "area = df_area[cell]\n",
    "myosin = df_myosin[cell]"
   ]
  },
  {
   "cell_type": "code",
   "execution_count": 19,
   "metadata": {
    "collapsed": false
   },
   "outputs": [],
   "source": [
    "# Convert number of molecules to a concentration\n",
    "# mols = Number of molecules\n",
    "# cell_vol = volume in micro-meters^3\n",
    "# N_A = 6.022*10^23 (Avogadro's Number)\n",
    "# Returns concentration in Molar\n",
    "\n",
    "def mol2conc(mols, cell_vol, N_A):\n",
    "    conc = mols*10**(3)*10**(12)*(1/N_A)*(1/cell_vol)     \n",
    "    return conc\n",
    "\n",
    "# Convert a concentration to number of molecules\n",
    "# IC = concentration (in Molar)\n",
    "# cell_vol = volume in micro-meters^3\n",
    "# N_A = 6.022*10^23 (Avogadro's Number)\n",
    "# Returns number of molecules\n",
    "\n",
    "def conc2mol(IC, cell_vol, N_A):\n",
    "    Mol = IC*10**(-3)*10**(-12)*N_A*cell_vol\n",
    "    return Mol"
   ]
  },
  {
   "cell_type": "code",
   "execution_count": 20,
   "metadata": {
    "collapsed": true
   },
   "outputs": [],
   "source": [
    "Na = 6.022*10**23"
   ]
  },
  {
   "cell_type": "code",
   "execution_count": 21,
   "metadata": {
    "collapsed": true
   },
   "outputs": [],
   "source": [
    "myo_conc = mol2conc(myosin,area*5,Na)"
   ]
  },
  {
   "cell_type": "code",
   "execution_count": 22,
   "metadata": {
    "collapsed": false
   },
   "outputs": [
    {
     "data": {
      "text/plain": [
       "<matplotlib.text.Text at 0x7fcde3934320>"
      ]
     },
     "execution_count": 22,
     "metadata": {},
     "output_type": "execute_result"
    },
    {
     "data": {
      "image/png": "[encoded data removed]",
      "text/plain": [
       "<matplotlib.figure.Figure at 0x7fcde374ddd8>"
      ]
     },
     "metadata": {},
     "output_type": "display_data"
    }
   ],
   "source": [
    "plt.plot(myo_conc*10**6)\n",
    "plt.xlim([tspan[0],tspan[1]*10])\n",
    "plt.ylim([0,0.5])\n",
    "plt.ylabel('$\\mu$ M')"
   ]
  },
  {
   "cell_type": "code",
   "execution_count": null,
   "metadata": {
    "collapsed": true
   },
   "outputs": [],
   "source": []
  }
 ],
 "metadata": {
  "kernelspec": {
   "display_name": "Python 3",
   "language": "python",
   "name": "python3"
  },
  "language_info": {
   "codemirror_mode": {
    "name": "ipython",
    "version": 3
   },
   "file_extension": ".py",
   "mimetype": "text/x-python",
   "name": "python",
   "nbconvert_exporter": "python",
   "pygments_lexer": "ipython3",
   "version": "3.5.1"
  }
 },
 "nbformat": 4,
 "nbformat_minor": 0
}
