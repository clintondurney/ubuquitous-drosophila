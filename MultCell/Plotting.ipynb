{
 "cells": [
  {
   "cell_type": "code",
   "execution_count": 4,
   "metadata": {
    "collapsed": false
   },
   "outputs": [],
   "source": [
    "import pandas as pd\n",
    "import matplotlib.pyplot as plt\n",
    "import numpy as np\n",
    "\n",
    "# %matplotlib notebook\n",
    "%matplotlib inline\n",
    "\n",
    "df_myosin = pd.read_csv('/home/cdurney/Desktop/Trial2/myosin.csv',delimiter='\\t')\n",
    "df_area = pd.read_csv('/home/cdurney/Desktop/Trial2/cellarea.csv',delimiter='\\t')\n",
    "df_reg = pd.read_csv('/home/cdurney/Desktop/Trial2/reg.csv',delimiter='\\t')\n"
   ]
  },
  {
   "cell_type": "code",
   "execution_count": 5,
   "metadata": {
    "collapsed": false
   },
   "outputs": [],
   "source": [
    "time = df_area['time']"
   ]
  },
  {
   "cell_type": "code",
   "execution_count": 6,
   "metadata": {
    "collapsed": false
   },
   "outputs": [
    {
     "data": {
      "text/html": [
       "<div>\n",
       "<table border=\"1\" class=\"dataframe\">\n",
       "  <thead>\n",
       "    <tr style=\"text-align: right;\">\n",
       "      <th></th>\n",
       "      <th>time</th>\n",
       "      <th>cell0</th>\n",
       "      <th>cell7</th>\n",
       "      <th>cell12</th>\n",
       "      <th>cell17</th>\n",
       "      <th>cell22</th>\n",
       "      <th>cell27</th>\n",
       "      <th>cell32</th>\n",
       "      <th>cell37</th>\n",
       "      <th>cell42</th>\n",
       "      <th>...</th>\n",
       "      <th>cell373</th>\n",
       "      <th>cell376</th>\n",
       "      <th>cell379</th>\n",
       "      <th>cell382</th>\n",
       "      <th>cell385</th>\n",
       "      <th>cell389</th>\n",
       "      <th>cell392</th>\n",
       "      <th>cell396</th>\n",
       "      <th>cell399</th>\n",
       "      <th>cell403</th>\n",
       "    </tr>\n",
       "  </thead>\n",
       "  <tbody>\n",
       "    <tr>\n",
       "      <th>0</th>\n",
       "      <td>0.0</td>\n",
       "      <td>5857.012775</td>\n",
       "      <td>5857.012775</td>\n",
       "      <td>5857.012775</td>\n",
       "      <td>5857.012775</td>\n",
       "      <td>5857.012775</td>\n",
       "      <td>5857.012775</td>\n",
       "      <td>5857.012775</td>\n",
       "      <td>5857.012775</td>\n",
       "      <td>5857.012775</td>\n",
       "      <td>...</td>\n",
       "      <td>5857.012775</td>\n",
       "      <td>5857.012775</td>\n",
       "      <td>5857.012775</td>\n",
       "      <td>5857.012775</td>\n",
       "      <td>5857.012775</td>\n",
       "      <td>5857.012775</td>\n",
       "      <td>5857.012775</td>\n",
       "      <td>5857.012775</td>\n",
       "      <td>5857.012775</td>\n",
       "      <td>5857.012775</td>\n",
       "    </tr>\n",
       "    <tr>\n",
       "      <th>1</th>\n",
       "      <td>0.1</td>\n",
       "      <td>5717.388859</td>\n",
       "      <td>5717.388859</td>\n",
       "      <td>5717.388859</td>\n",
       "      <td>5717.388859</td>\n",
       "      <td>5717.388859</td>\n",
       "      <td>5717.388859</td>\n",
       "      <td>5717.388859</td>\n",
       "      <td>5717.388859</td>\n",
       "      <td>5717.388859</td>\n",
       "      <td>...</td>\n",
       "      <td>5717.388859</td>\n",
       "      <td>5717.388859</td>\n",
       "      <td>5717.388859</td>\n",
       "      <td>5717.388859</td>\n",
       "      <td>5717.388859</td>\n",
       "      <td>5717.388859</td>\n",
       "      <td>5717.388859</td>\n",
       "      <td>5717.388859</td>\n",
       "      <td>5717.388859</td>\n",
       "      <td>5717.388859</td>\n",
       "    </tr>\n",
       "    <tr>\n",
       "      <th>2</th>\n",
       "      <td>0.2</td>\n",
       "      <td>5581.051215</td>\n",
       "      <td>5581.051215</td>\n",
       "      <td>5581.051215</td>\n",
       "      <td>5581.051215</td>\n",
       "      <td>5581.051215</td>\n",
       "      <td>5581.051215</td>\n",
       "      <td>5581.051215</td>\n",
       "      <td>5581.051215</td>\n",
       "      <td>5581.051215</td>\n",
       "      <td>...</td>\n",
       "      <td>5581.051215</td>\n",
       "      <td>5581.051215</td>\n",
       "      <td>5581.051215</td>\n",
       "      <td>5581.051215</td>\n",
       "      <td>5581.051215</td>\n",
       "      <td>5581.051215</td>\n",
       "      <td>5581.051215</td>\n",
       "      <td>5581.051215</td>\n",
       "      <td>5581.051215</td>\n",
       "      <td>5581.051215</td>\n",
       "    </tr>\n",
       "    <tr>\n",
       "      <th>3</th>\n",
       "      <td>0.3</td>\n",
       "      <td>5447.924470</td>\n",
       "      <td>5447.924470</td>\n",
       "      <td>5447.924470</td>\n",
       "      <td>5447.924470</td>\n",
       "      <td>5447.924470</td>\n",
       "      <td>5447.924470</td>\n",
       "      <td>5447.924470</td>\n",
       "      <td>5447.924470</td>\n",
       "      <td>5447.924470</td>\n",
       "      <td>...</td>\n",
       "      <td>5447.924470</td>\n",
       "      <td>5447.924470</td>\n",
       "      <td>5447.924470</td>\n",
       "      <td>5447.924470</td>\n",
       "      <td>5447.924470</td>\n",
       "      <td>5447.924470</td>\n",
       "      <td>5447.924470</td>\n",
       "      <td>5447.924470</td>\n",
       "      <td>5447.924470</td>\n",
       "      <td>5447.924470</td>\n",
       "    </tr>\n",
       "    <tr>\n",
       "      <th>4</th>\n",
       "      <td>0.4</td>\n",
       "      <td>5317.934890</td>\n",
       "      <td>5317.934890</td>\n",
       "      <td>5317.934890</td>\n",
       "      <td>5317.934890</td>\n",
       "      <td>5317.934890</td>\n",
       "      <td>5317.934890</td>\n",
       "      <td>5317.934890</td>\n",
       "      <td>5317.934890</td>\n",
       "      <td>5317.934890</td>\n",
       "      <td>...</td>\n",
       "      <td>5317.934890</td>\n",
       "      <td>5317.934890</td>\n",
       "      <td>5317.934890</td>\n",
       "      <td>5317.934890</td>\n",
       "      <td>5317.934890</td>\n",
       "      <td>5317.934890</td>\n",
       "      <td>5317.934890</td>\n",
       "      <td>5317.934890</td>\n",
       "      <td>5317.934890</td>\n",
       "      <td>5317.934890</td>\n",
       "    </tr>\n",
       "  </tbody>\n",
       "</table>\n",
       "<p>5 rows × 122 columns</p>\n",
       "</div>"
      ],
      "text/plain": [
       "   time        cell0        cell7       cell12       cell17       cell22  \\\n",
       "0   0.0  5857.012775  5857.012775  5857.012775  5857.012775  5857.012775   \n",
       "1   0.1  5717.388859  5717.388859  5717.388859  5717.388859  5717.388859   \n",
       "2   0.2  5581.051215  5581.051215  5581.051215  5581.051215  5581.051215   \n",
       "3   0.3  5447.924470  5447.924470  5447.924470  5447.924470  5447.924470   \n",
       "4   0.4  5317.934890  5317.934890  5317.934890  5317.934890  5317.934890   \n",
       "\n",
       "        cell27       cell32       cell37       cell42     ...       \\\n",
       "0  5857.012775  5857.012775  5857.012775  5857.012775     ...        \n",
       "1  5717.388859  5717.388859  5717.388859  5717.388859     ...        \n",
       "2  5581.051215  5581.051215  5581.051215  5581.051215     ...        \n",
       "3  5447.924470  5447.924470  5447.924470  5447.924470     ...        \n",
       "4  5317.934890  5317.934890  5317.934890  5317.934890     ...        \n",
       "\n",
       "       cell373      cell376      cell379      cell382      cell385  \\\n",
       "0  5857.012775  5857.012775  5857.012775  5857.012775  5857.012775   \n",
       "1  5717.388859  5717.388859  5717.388859  5717.388859  5717.388859   \n",
       "2  5581.051215  5581.051215  5581.051215  5581.051215  5581.051215   \n",
       "3  5447.924470  5447.924470  5447.924470  5447.924470  5447.924470   \n",
       "4  5317.934890  5317.934890  5317.934890  5317.934890  5317.934890   \n",
       "\n",
       "       cell389      cell392      cell396      cell399      cell403  \n",
       "0  5857.012775  5857.012775  5857.012775  5857.012775  5857.012775  \n",
       "1  5717.388859  5717.388859  5717.388859  5717.388859  5717.388859  \n",
       "2  5581.051215  5581.051215  5581.051215  5581.051215  5581.051215  \n",
       "3  5447.924470  5447.924470  5447.924470  5447.924470  5447.924470  \n",
       "4  5317.934890  5317.934890  5317.934890  5317.934890  5317.934890  \n",
       "\n",
       "[5 rows x 122 columns]"
      ]
     },
     "execution_count": 6,
     "metadata": {},
     "output_type": "execute_result"
    }
   ],
   "source": [
    "df_myosin.head()"
   ]
  },
  {
   "cell_type": "code",
   "execution_count": 7,
   "metadata": {
    "collapsed": false
   },
   "outputs": [
    {
     "data": {
      "text/html": [
       "<div>\n",
       "<table border=\"1\" class=\"dataframe\">\n",
       "  <thead>\n",
       "    <tr style=\"text-align: right;\">\n",
       "      <th></th>\n",
       "      <th>time</th>\n",
       "      <th>cell0</th>\n",
       "      <th>cell7</th>\n",
       "      <th>cell12</th>\n",
       "      <th>cell17</th>\n",
       "      <th>cell22</th>\n",
       "      <th>cell27</th>\n",
       "      <th>cell32</th>\n",
       "      <th>cell37</th>\n",
       "      <th>cell42</th>\n",
       "      <th>...</th>\n",
       "      <th>cell373</th>\n",
       "      <th>cell376</th>\n",
       "      <th>cell379</th>\n",
       "      <th>cell382</th>\n",
       "      <th>cell385</th>\n",
       "      <th>cell389</th>\n",
       "      <th>cell392</th>\n",
       "      <th>cell396</th>\n",
       "      <th>cell399</th>\n",
       "      <th>cell403</th>\n",
       "    </tr>\n",
       "  </thead>\n",
       "  <tbody>\n",
       "    <tr>\n",
       "      <th>78690</th>\n",
       "      <td>7869.0</td>\n",
       "      <td>1381163.973969</td>\n",
       "      <td>766161.684360</td>\n",
       "      <td>4906560.433885</td>\n",
       "      <td>6275921.728984</td>\n",
       "      <td>914472.644623</td>\n",
       "      <td>3303704.191922</td>\n",
       "      <td>2754527.057708</td>\n",
       "      <td>1126817.999880</td>\n",
       "      <td>9964019.813349</td>\n",
       "      <td>...</td>\n",
       "      <td>5398660.336414</td>\n",
       "      <td>363936.666852</td>\n",
       "      <td>2247297.227008</td>\n",
       "      <td>1035590.803183</td>\n",
       "      <td>3780939.409219</td>\n",
       "      <td>425538.264382</td>\n",
       "      <td>489774.287052</td>\n",
       "      <td>514436.733603</td>\n",
       "      <td>397264.636000</td>\n",
       "      <td>4037178.406613</td>\n",
       "    </tr>\n",
       "    <tr>\n",
       "      <th>78691</th>\n",
       "      <td>7869.1</td>\n",
       "      <td>1383926.222985</td>\n",
       "      <td>767682.991358</td>\n",
       "      <td>4912817.520268</td>\n",
       "      <td>6282260.210118</td>\n",
       "      <td>916440.452131</td>\n",
       "      <td>3308347.766021</td>\n",
       "      <td>2759556.458155</td>\n",
       "      <td>1129240.959211</td>\n",
       "      <td>9987947.813467</td>\n",
       "      <td>...</td>\n",
       "      <td>5404656.106389</td>\n",
       "      <td>364311.616214</td>\n",
       "      <td>2251699.872904</td>\n",
       "      <td>1038172.885244</td>\n",
       "      <td>3786250.805421</td>\n",
       "      <td>426023.568789</td>\n",
       "      <td>490515.344445</td>\n",
       "      <td>515196.189613</td>\n",
       "      <td>397744.388446</td>\n",
       "      <td>4042754.255811</td>\n",
       "    </tr>\n",
       "    <tr>\n",
       "      <th>78692</th>\n",
       "      <td>7869.2</td>\n",
       "      <td>1386685.518080</td>\n",
       "      <td>769214.304559</td>\n",
       "      <td>4919076.867468</td>\n",
       "      <td>6291824.453025</td>\n",
       "      <td>918369.103246</td>\n",
       "      <td>3313093.296311</td>\n",
       "      <td>2764596.657698</td>\n",
       "      <td>1131707.466591</td>\n",
       "      <td>9995752.276813</td>\n",
       "      <td>...</td>\n",
       "      <td>5410654.693097</td>\n",
       "      <td>364687.878378</td>\n",
       "      <td>2256105.789289</td>\n",
       "      <td>1040764.226244</td>\n",
       "      <td>3791565.080941</td>\n",
       "      <td>426510.295770</td>\n",
       "      <td>491258.722689</td>\n",
       "      <td>515958.079782</td>\n",
       "      <td>398225.237406</td>\n",
       "      <td>4048332.398869</td>\n",
       "    </tr>\n",
       "    <tr>\n",
       "      <th>78693</th>\n",
       "      <td>7869.3</td>\n",
       "      <td>1389462.004434</td>\n",
       "      <td>770742.126129</td>\n",
       "      <td>4925337.411862</td>\n",
       "      <td>6298177.167908</td>\n",
       "      <td>920348.373169</td>\n",
       "      <td>3317743.051703</td>\n",
       "      <td>2769635.772759</td>\n",
       "      <td>1134138.070536</td>\n",
       "      <td>10018280.615925</td>\n",
       "      <td>...</td>\n",
       "      <td>5416656.085342</td>\n",
       "      <td>365065.461179</td>\n",
       "      <td>2260514.976471</td>\n",
       "      <td>1043364.851039</td>\n",
       "      <td>3796882.248573</td>\n",
       "      <td>426998.452471</td>\n",
       "      <td>492004.420520</td>\n",
       "      <td>516722.406829</td>\n",
       "      <td>398707.186150</td>\n",
       "      <td>4053912.822479</td>\n",
       "    </tr>\n",
       "    <tr>\n",
       "      <th>78694</th>\n",
       "      <td>7869.4</td>\n",
       "      <td>1392226.663938</td>\n",
       "      <td>772282.263450</td>\n",
       "      <td>4931600.234966</td>\n",
       "      <td>6304843.289207</td>\n",
       "      <td>922287.743419</td>\n",
       "      <td>3322496.655591</td>\n",
       "      <td>2774686.245163</td>\n",
       "      <td>1136612.176990</td>\n",
       "      <td>10028899.633810</td>\n",
       "      <td>...</td>\n",
       "      <td>NaN</td>\n",
       "      <td>NaN</td>\n",
       "      <td>NaN</td>\n",
       "      <td>NaN</td>\n",
       "      <td>NaN</td>\n",
       "      <td>NaN</td>\n",
       "      <td>NaN</td>\n",
       "      <td>NaN</td>\n",
       "      <td>NaN</td>\n",
       "      <td>NaN</td>\n",
       "    </tr>\n",
       "  </tbody>\n",
       "</table>\n",
       "<p>5 rows × 122 columns</p>\n",
       "</div>"
      ],
      "text/plain": [
       "         time           cell0          cell7          cell12          cell17  \\\n",
       "78690  7869.0  1381163.973969  766161.684360  4906560.433885  6275921.728984   \n",
       "78691  7869.1  1383926.222985  767682.991358  4912817.520268  6282260.210118   \n",
       "78692  7869.2  1386685.518080  769214.304559  4919076.867468  6291824.453025   \n",
       "78693  7869.3  1389462.004434  770742.126129  4925337.411862  6298177.167908   \n",
       "78694  7869.4  1392226.663938  772282.263450  4931600.234966  6304843.289207   \n",
       "\n",
       "              cell22          cell27          cell32          cell37  \\\n",
       "78690  914472.644623  3303704.191922  2754527.057708  1126817.999880   \n",
       "78691  916440.452131  3308347.766021  2759556.458155  1129240.959211   \n",
       "78692  918369.103246  3313093.296311  2764596.657698  1131707.466591   \n",
       "78693  920348.373169  3317743.051703  2769635.772759  1134138.070536   \n",
       "78694  922287.743419  3322496.655591  2774686.245163  1136612.176990   \n",
       "\n",
       "                cell42       ...               cell373        cell376  \\\n",
       "78690   9964019.813349       ...        5398660.336414  363936.666852   \n",
       "78691   9987947.813467       ...        5404656.106389  364311.616214   \n",
       "78692   9995752.276813       ...        5410654.693097  364687.878378   \n",
       "78693  10018280.615925       ...        5416656.085342  365065.461179   \n",
       "78694  10028899.633810       ...                   NaN            NaN   \n",
       "\n",
       "              cell379         cell382         cell385        cell389  \\\n",
       "78690  2247297.227008  1035590.803183  3780939.409219  425538.264382   \n",
       "78691  2251699.872904  1038172.885244  3786250.805421  426023.568789   \n",
       "78692  2256105.789289  1040764.226244  3791565.080941  426510.295770   \n",
       "78693  2260514.976471  1043364.851039  3796882.248573  426998.452471   \n",
       "78694             NaN             NaN             NaN            NaN   \n",
       "\n",
       "             cell392        cell396        cell399         cell403  \n",
       "78690  489774.287052  514436.733603  397264.636000  4037178.406613  \n",
       "78691  490515.344445  515196.189613  397744.388446  4042754.255811  \n",
       "78692  491258.722689  515958.079782  398225.237406  4048332.398869  \n",
       "78693  492004.420520  516722.406829  398707.186150  4053912.822479  \n",
       "78694            NaN            NaN            NaN             NaN  \n",
       "\n",
       "[5 rows x 122 columns]"
      ]
     },
     "execution_count": 7,
     "metadata": {},
     "output_type": "execute_result"
    }
   ],
   "source": [
    "df_myosin.tail()"
   ]
  },
  {
   "cell_type": "code",
   "execution_count": 8,
   "metadata": {
    "collapsed": false
   },
   "outputs": [],
   "source": [
    "tspan = [0,5549]\n",
    "center_node = 403\n",
    "cell = 'cell' + str(center_node)\n"
   ]
  },
  {
   "cell_type": "code",
   "execution_count": 9,
   "metadata": {
    "collapsed": false
   },
   "outputs": [
    {
     "data": {
      "image/png": "[encoded data removed]",
      "text/plain": [
       "<matplotlib.figure.Figure at 0x7fbeedf10e10>"
      ]
     },
     "metadata": {},
     "output_type": "display_data"
    },
    {
     "data": {
      "image/png": "[encoded data removed]",
      "text/plain": [
       "<matplotlib.figure.Figure at 0x7fbeedecaf28>"
      ]
     },
     "metadata": {},
     "output_type": "display_data"
    },
    {
     "data": {
      "image/png": "[encoded data removed]",
      "text/plain": [
       "<matplotlib.figure.Figure at 0x7fbef7679d68>"
      ]
     },
     "metadata": {},
     "output_type": "display_data"
    }
   ],
   "source": [
    "plt.figure(1)\n",
    "plt.title('myosin')\n",
    "plt.plot(df_myosin['time'],df_myosin[cell])\n",
    "plt.xlim(tspan)\n",
    "plt.ylim([0,100000])\n",
    "plt.xlabel(\"time\")\n",
    "plt.ylabel(\"motors in cell\")\n",
    "plt.show()\n",
    "\n",
    "plt.figure(2)\n",
    "plt.title('area')\n",
    "plt.plot(df_area['time'],df_area[cell])\n",
    "plt.xlim(tspan)\n",
    "plt.ylim([100,200])\n",
    "plt.xlabel(\"time\")\n",
    "plt.ylabel(\"$\\mu m^2$\")\n",
    "plt.show()\n",
    "\n",
    "plt.figure(3)\n",
    "plt.title('reg')\n",
    "plt.plot(df_reg['time'],df_reg[cell])\n",
    "plt.xlim(tspan)\n",
    "plt.ylim([0,0.05])\n",
    "plt.xlabel(\"time\")\n",
    "plt.ylabel(\"$\\mu M$\")\n",
    "plt.show()"
   ]
  },
  {
   "cell_type": "code",
   "execution_count": 26,
   "metadata": {
    "collapsed": false
   },
   "outputs": [
    {
     "data": {
      "image/png": "[encoded data removed]",
      "text/plain": [
       "<matplotlib.figure.Figure at 0x7f26100c7710>"
      ]
     },
     "metadata": {},
     "output_type": "display_data"
    }
   ],
   "source": [
    "fig, ax1 = plt.subplots()\n",
    "plt.title('area')\n",
    "ax1.plot(df_area['time'],df_area[cell],'b-')\n",
    "ax1.set_xlabel('time (s)')\n",
    "ax1.set_xlim([0,7500])\n",
    "ax1.set_ylim([100,200])\n",
    "ax1.set_ylabel('area', color='b')\n",
    "ax1.tick_params('y', colors='b')\n",
    "\n",
    "ax2 = ax1.twinx()\n",
    "ax2.plot(df_myosin['time'],df_myosin[cell],'r-')\n",
    "ax2.set_xlim([0,7500])\n",
    "ax2.set_ylim([0,100000])\n",
    "ax2.set_ylabel('myosin', color='r')\n",
    "ax2.tick_params('y', colors='r')\n",
    "fig.tight_layout()\n",
    "plt.show()"
   ]
  },
  {
   "cell_type": "code",
   "execution_count": 27,
   "metadata": {
    "collapsed": false
   },
   "outputs": [],
   "source": [
    "area = df_area[cell]\n",
    "myosin = df_myosin[cell]"
   ]
  },
  {
   "cell_type": "code",
   "execution_count": 28,
   "metadata": {
    "collapsed": false
   },
   "outputs": [],
   "source": [
    "# Convert number of molecules to a concentration\n",
    "# mols = Number of molecules\n",
    "# cell_vol = volume in micro-meters^3\n",
    "# N_A = 6.022*10^23 (Avogadro's Number)\n",
    "# Returns concentration in Molar\n",
    "\n",
    "def mol2conc(mols, cell_vol, N_A):\n",
    "    conc = mols*10**(3)*10**(12)*(1/N_A)*(1/cell_vol)     \n",
    "    return conc\n",
    "\n",
    "# Convert a concentration to number of molecules\n",
    "# IC = concentration (in Molar)\n",
    "# cell_vol = volume in micro-meters^3\n",
    "# N_A = 6.022*10^23 (Avogadro's Number)\n",
    "# Returns number of molecules\n",
    "\n",
    "def conc2mol(IC, cell_vol, N_A):\n",
    "    Mol = IC*10**(-3)*10**(-12)*N_A*cell_vol\n",
    "    return Mol"
   ]
  },
  {
   "cell_type": "code",
   "execution_count": 29,
   "metadata": {
    "collapsed": true
   },
   "outputs": [],
   "source": [
    "Na = 6.022*10**23"
   ]
  },
  {
   "cell_type": "code",
   "execution_count": 30,
   "metadata": {
    "collapsed": true
   },
   "outputs": [],
   "source": [
    "myo_conc = mol2conc(myosin,area*5,Na)"
   ]
  },
  {
   "cell_type": "code",
   "execution_count": 31,
   "metadata": {
    "collapsed": false
   },
   "outputs": [
    {
     "data": {
      "text/plain": [
       "<matplotlib.text.Text at 0x7f26100ef2e8>"
      ]
     },
     "execution_count": 31,
     "metadata": {},
     "output_type": "execute_result"
    },
    {
     "data": {
      "image/png": "[encoded data removed]",
      "text/plain": [
       "<matplotlib.figure.Figure at 0x7f26100a7c18>"
      ]
     },
     "metadata": {},
     "output_type": "display_data"
    }
   ],
   "source": [
    "plt.plot(myo_conc*10**6)\n",
    "plt.xlim([tspan[0],tspan[1]*10])\n",
    "plt.ylim([0,0.5])\n",
    "plt.ylabel('$\\mu$ M')"
   ]
  },
  {
   "cell_type": "code",
   "execution_count": null,
   "metadata": {
    "collapsed": true
   },
   "outputs": [],
   "source": []
  },
  {
   "cell_type": "code",
   "execution_count": null,
   "metadata": {
    "collapsed": true
   },
   "outputs": [],
   "source": []
  }
 ],
 "metadata": {
  "kernelspec": {
   "display_name": "Python 3",
   "language": "python",
   "name": "python3"
  },
  "language_info": {
   "codemirror_mode": {
    "name": "ipython",
    "version": 3
   },
   "file_extension": ".py",
   "mimetype": "text/x-python",
   "name": "python",
   "nbconvert_exporter": "python",
   "pygments_lexer": "ipython3",
   "version": "3.5.1"
  }
 },
 "nbformat": 4,
 "nbformat_minor": 0
}
