{
 "cells": [
  {
   "cell_type": "code",
   "execution_count": 13,
   "metadata": {
    "collapsed": false
   },
   "outputs": [],
   "source": [
    "import pandas as pd\n",
    "import matplotlib.pyplot as plt\n",
    "import numpy as np\n",
    "\n",
    "# %matplotlib notebook\n",
    "%matplotlib inline\n",
    "\n",
    "df_myosin = pd.read_csv('myosin.csv',delimiter='\\t')\n",
    "df_area = pd.read_csv('cellarea.csv',delimiter='\\t')\n",
    "df_reg = pd.read_csv('reg.csv',delimiter='\\t')\n"
   ]
  },
  {
   "cell_type": "code",
   "execution_count": 14,
   "metadata": {
    "collapsed": false
   },
   "outputs": [],
   "source": [
    "time = df_area['time']"
   ]
  },
  {
   "cell_type": "code",
   "execution_count": 15,
   "metadata": {
    "collapsed": false
   },
   "outputs": [
    {
     "data": {
      "text/html": [
       "<div>\n",
       "<table border=\"1\" class=\"dataframe\">\n",
       "  <thead>\n",
       "    <tr style=\"text-align: right;\">\n",
       "      <th></th>\n",
       "      <th>time</th>\n",
       "      <th>cell0</th>\n",
       "      <th>cell7</th>\n",
       "      <th>cell12</th>\n",
       "      <th>cell17</th>\n",
       "      <th>cell22</th>\n",
       "      <th>cell27</th>\n",
       "      <th>cell32</th>\n",
       "      <th>cell37</th>\n",
       "      <th>cell42</th>\n",
       "      <th>...</th>\n",
       "      <th>cell373</th>\n",
       "      <th>cell376</th>\n",
       "      <th>cell379</th>\n",
       "      <th>cell382</th>\n",
       "      <th>cell385</th>\n",
       "      <th>cell389</th>\n",
       "      <th>cell392</th>\n",
       "      <th>cell396</th>\n",
       "      <th>cell399</th>\n",
       "      <th>cell403</th>\n",
       "    </tr>\n",
       "  </thead>\n",
       "  <tbody>\n",
       "    <tr>\n",
       "      <th>0</th>\n",
       "      <td>0.0</td>\n",
       "      <td>5855.771291</td>\n",
       "      <td>5855.771291</td>\n",
       "      <td>5855.771291</td>\n",
       "      <td>5855.771291</td>\n",
       "      <td>5855.771291</td>\n",
       "      <td>5855.771291</td>\n",
       "      <td>5855.771291</td>\n",
       "      <td>5855.771291</td>\n",
       "      <td>5855.771291</td>\n",
       "      <td>...</td>\n",
       "      <td>5855.771291</td>\n",
       "      <td>5855.771291</td>\n",
       "      <td>5855.771291</td>\n",
       "      <td>5855.771291</td>\n",
       "      <td>5855.771291</td>\n",
       "      <td>5855.771291</td>\n",
       "      <td>5855.771291</td>\n",
       "      <td>5855.771291</td>\n",
       "      <td>5855.771291</td>\n",
       "      <td>5855.771291</td>\n",
       "    </tr>\n",
       "    <tr>\n",
       "      <th>1</th>\n",
       "      <td>0.1</td>\n",
       "      <td>5714.964560</td>\n",
       "      <td>5714.964560</td>\n",
       "      <td>5714.964560</td>\n",
       "      <td>5714.964560</td>\n",
       "      <td>5714.964560</td>\n",
       "      <td>5714.964560</td>\n",
       "      <td>5714.964560</td>\n",
       "      <td>5714.964560</td>\n",
       "      <td>5714.964560</td>\n",
       "      <td>...</td>\n",
       "      <td>5714.964489</td>\n",
       "      <td>5714.964489</td>\n",
       "      <td>5714.964489</td>\n",
       "      <td>5714.964489</td>\n",
       "      <td>5714.964489</td>\n",
       "      <td>5714.964489</td>\n",
       "      <td>5714.964489</td>\n",
       "      <td>5714.964489</td>\n",
       "      <td>5714.963962</td>\n",
       "      <td>5714.963962</td>\n",
       "    </tr>\n",
       "    <tr>\n",
       "      <th>2</th>\n",
       "      <td>0.2</td>\n",
       "      <td>5577.500741</td>\n",
       "      <td>5577.500741</td>\n",
       "      <td>5577.500741</td>\n",
       "      <td>5577.500741</td>\n",
       "      <td>5577.500741</td>\n",
       "      <td>5577.500741</td>\n",
       "      <td>5577.500741</td>\n",
       "      <td>5577.500741</td>\n",
       "      <td>5577.500741</td>\n",
       "      <td>...</td>\n",
       "      <td>5577.500544</td>\n",
       "      <td>5577.500544</td>\n",
       "      <td>5577.500544</td>\n",
       "      <td>5577.500544</td>\n",
       "      <td>5577.500544</td>\n",
       "      <td>5577.500544</td>\n",
       "      <td>5577.500544</td>\n",
       "      <td>5577.500544</td>\n",
       "      <td>5577.499012</td>\n",
       "      <td>5577.499012</td>\n",
       "    </tr>\n",
       "    <tr>\n",
       "      <th>3</th>\n",
       "      <td>0.3</td>\n",
       "      <td>5443.302496</td>\n",
       "      <td>5443.302496</td>\n",
       "      <td>5443.302496</td>\n",
       "      <td>5443.302496</td>\n",
       "      <td>5443.302496</td>\n",
       "      <td>5443.302496</td>\n",
       "      <td>5443.302496</td>\n",
       "      <td>5443.302497</td>\n",
       "      <td>5443.302497</td>\n",
       "      <td>...</td>\n",
       "      <td>5443.302133</td>\n",
       "      <td>5443.302133</td>\n",
       "      <td>5443.302133</td>\n",
       "      <td>5443.302133</td>\n",
       "      <td>5443.302133</td>\n",
       "      <td>5443.302133</td>\n",
       "      <td>5443.302133</td>\n",
       "      <td>5443.302133</td>\n",
       "      <td>5443.299164</td>\n",
       "      <td>5443.299164</td>\n",
       "    </tr>\n",
       "    <tr>\n",
       "      <th>4</th>\n",
       "      <td>0.4</td>\n",
       "      <td>5312.294181</td>\n",
       "      <td>5312.294181</td>\n",
       "      <td>5312.294181</td>\n",
       "      <td>5312.294181</td>\n",
       "      <td>5312.294181</td>\n",
       "      <td>5312.294181</td>\n",
       "      <td>5312.294181</td>\n",
       "      <td>5312.294184</td>\n",
       "      <td>5312.294184</td>\n",
       "      <td>...</td>\n",
       "      <td>5312.293623</td>\n",
       "      <td>5312.293623</td>\n",
       "      <td>5312.293623</td>\n",
       "      <td>5312.293623</td>\n",
       "      <td>5312.293624</td>\n",
       "      <td>5312.293624</td>\n",
       "      <td>5312.293624</td>\n",
       "      <td>5312.293624</td>\n",
       "      <td>5312.288830</td>\n",
       "      <td>5312.288830</td>\n",
       "    </tr>\n",
       "  </tbody>\n",
       "</table>\n",
       "<p>5 rows × 122 columns</p>\n",
       "</div>"
      ],
      "text/plain": [
       "   time        cell0        cell7       cell12       cell17       cell22  \\\n",
       "0   0.0  5855.771291  5855.771291  5855.771291  5855.771291  5855.771291   \n",
       "1   0.1  5714.964560  5714.964560  5714.964560  5714.964560  5714.964560   \n",
       "2   0.2  5577.500741  5577.500741  5577.500741  5577.500741  5577.500741   \n",
       "3   0.3  5443.302496  5443.302496  5443.302496  5443.302496  5443.302496   \n",
       "4   0.4  5312.294181  5312.294181  5312.294181  5312.294181  5312.294181   \n",
       "\n",
       "        cell27       cell32       cell37       cell42     ...       \\\n",
       "0  5855.771291  5855.771291  5855.771291  5855.771291     ...        \n",
       "1  5714.964560  5714.964560  5714.964560  5714.964560     ...        \n",
       "2  5577.500741  5577.500741  5577.500741  5577.500741     ...        \n",
       "3  5443.302496  5443.302496  5443.302497  5443.302497     ...        \n",
       "4  5312.294181  5312.294181  5312.294184  5312.294184     ...        \n",
       "\n",
       "       cell373      cell376      cell379      cell382      cell385  \\\n",
       "0  5855.771291  5855.771291  5855.771291  5855.771291  5855.771291   \n",
       "1  5714.964489  5714.964489  5714.964489  5714.964489  5714.964489   \n",
       "2  5577.500544  5577.500544  5577.500544  5577.500544  5577.500544   \n",
       "3  5443.302133  5443.302133  5443.302133  5443.302133  5443.302133   \n",
       "4  5312.293623  5312.293623  5312.293623  5312.293623  5312.293624   \n",
       "\n",
       "       cell389      cell392      cell396      cell399      cell403  \n",
       "0  5855.771291  5855.771291  5855.771291  5855.771291  5855.771291  \n",
       "1  5714.964489  5714.964489  5714.964489  5714.963962  5714.963962  \n",
       "2  5577.500544  5577.500544  5577.500544  5577.499012  5577.499012  \n",
       "3  5443.302133  5443.302133  5443.302133  5443.299164  5443.299164  \n",
       "4  5312.293624  5312.293624  5312.293624  5312.288830  5312.288830  \n",
       "\n",
       "[5 rows x 122 columns]"
      ]
     },
     "execution_count": 15,
     "metadata": {},
     "output_type": "execute_result"
    }
   ],
   "source": [
    "df_myosin.head()"
   ]
  },
  {
   "cell_type": "code",
   "execution_count": 16,
   "metadata": {
    "collapsed": false
   },
   "outputs": [
    {
     "data": {
      "text/html": [
       "<div>\n",
       "<table border=\"1\" class=\"dataframe\">\n",
       "  <thead>\n",
       "    <tr style=\"text-align: right;\">\n",
       "      <th></th>\n",
       "      <th>time</th>\n",
       "      <th>cell0</th>\n",
       "      <th>cell7</th>\n",
       "      <th>cell12</th>\n",
       "      <th>cell17</th>\n",
       "      <th>cell22</th>\n",
       "      <th>cell27</th>\n",
       "      <th>cell32</th>\n",
       "      <th>cell37</th>\n",
       "      <th>cell42</th>\n",
       "      <th>...</th>\n",
       "      <th>cell373</th>\n",
       "      <th>cell376</th>\n",
       "      <th>cell379</th>\n",
       "      <th>cell382</th>\n",
       "      <th>cell385</th>\n",
       "      <th>cell389</th>\n",
       "      <th>cell392</th>\n",
       "      <th>cell396</th>\n",
       "      <th>cell399</th>\n",
       "      <th>cell403</th>\n",
       "    </tr>\n",
       "  </thead>\n",
       "  <tbody>\n",
       "    <tr>\n",
       "      <th>55495</th>\n",
       "      <td>5549.5</td>\n",
       "      <td>2563.463831</td>\n",
       "      <td>6167.933510</td>\n",
       "      <td>9469.714759</td>\n",
       "      <td>21194.690321</td>\n",
       "      <td>3154.407507</td>\n",
       "      <td>3190.757608</td>\n",
       "      <td>3441.396450</td>\n",
       "      <td>9796.382351</td>\n",
       "      <td>21163.983820</td>\n",
       "      <td>...</td>\n",
       "      <td>2524.833888</td>\n",
       "      <td>21657.316769</td>\n",
       "      <td>21276.125288</td>\n",
       "      <td>11150.769909</td>\n",
       "      <td>3621.227295</td>\n",
       "      <td>8176.442545</td>\n",
       "      <td>2491.107330</td>\n",
       "      <td>8976.175600</td>\n",
       "      <td>22469.896152</td>\n",
       "      <td>6736.993722</td>\n",
       "    </tr>\n",
       "    <tr>\n",
       "      <th>55496</th>\n",
       "      <td>5549.6</td>\n",
       "      <td>2565.182207</td>\n",
       "      <td>6138.686000</td>\n",
       "      <td>9426.480422</td>\n",
       "      <td>21219.727809</td>\n",
       "      <td>3159.829807</td>\n",
       "      <td>3196.362140</td>\n",
       "      <td>3448.124033</td>\n",
       "      <td>9752.294017</td>\n",
       "      <td>21134.178909</td>\n",
       "      <td>...</td>\n",
       "      <td>2523.472302</td>\n",
       "      <td>21630.760045</td>\n",
       "      <td>21300.565182</td>\n",
       "      <td>11103.849126</td>\n",
       "      <td>3628.755678</td>\n",
       "      <td>8201.431567</td>\n",
       "      <td>2490.851535</td>\n",
       "      <td>9003.438444</td>\n",
       "      <td>22486.601924</td>\n",
       "      <td>6757.188640</td>\n",
       "    </tr>\n",
       "    <tr>\n",
       "      <th>55497</th>\n",
       "      <td>5549.7</td>\n",
       "      <td>2566.922151</td>\n",
       "      <td>6109.605878</td>\n",
       "      <td>9383.371026</td>\n",
       "      <td>21244.653791</td>\n",
       "      <td>3165.277285</td>\n",
       "      <td>3201.992386</td>\n",
       "      <td>3454.880952</td>\n",
       "      <td>9708.321666</td>\n",
       "      <td>21104.187290</td>\n",
       "      <td>...</td>\n",
       "      <td>2522.139405</td>\n",
       "      <td>21604.008713</td>\n",
       "      <td>21324.890950</td>\n",
       "      <td>11057.006297</td>\n",
       "      <td>3636.316348</td>\n",
       "      <td>8226.496816</td>\n",
       "      <td>2490.620835</td>\n",
       "      <td>9030.774954</td>\n",
       "      <td>22503.158927</td>\n",
       "      <td>6777.456099</td>\n",
       "    </tr>\n",
       "    <tr>\n",
       "      <th>55498</th>\n",
       "      <td>5549.8</td>\n",
       "      <td>2568.683645</td>\n",
       "      <td>6080.692983</td>\n",
       "      <td>9340.387630</td>\n",
       "      <td>21269.467668</td>\n",
       "      <td>3170.750011</td>\n",
       "      <td>3207.648420</td>\n",
       "      <td>3461.667311</td>\n",
       "      <td>9664.466434</td>\n",
       "      <td>21074.009476</td>\n",
       "      <td>...</td>\n",
       "      <td>2520.835088</td>\n",
       "      <td>21577.063175</td>\n",
       "      <td>21349.101997</td>\n",
       "      <td>11010.242785</td>\n",
       "      <td>3643.909428</td>\n",
       "      <td>8251.638264</td>\n",
       "      <td>2490.415161</td>\n",
       "      <td>9058.185001</td>\n",
       "      <td>22519.566592</td>\n",
       "      <td>6797.796221</td>\n",
       "    </tr>\n",
       "    <tr>\n",
       "      <th>55499</th>\n",
       "      <td>5549.9</td>\n",
       "      <td>2570.466670</td>\n",
       "      <td>6051.947146</td>\n",
       "      <td>9297.531280</td>\n",
       "      <td>21294.168844</td>\n",
       "      <td>3176.248057</td>\n",
       "      <td>3213.330318</td>\n",
       "      <td>3468.483214</td>\n",
       "      <td>9620.729447</td>\n",
       "      <td>21043.645990</td>\n",
       "      <td>...</td>\n",
       "      <td>NaN</td>\n",
       "      <td>NaN</td>\n",
       "      <td>NaN</td>\n",
       "      <td>NaN</td>\n",
       "      <td>NaN</td>\n",
       "      <td>NaN</td>\n",
       "      <td>NaN</td>\n",
       "      <td>NaN</td>\n",
       "      <td>NaN</td>\n",
       "      <td>NaN</td>\n",
       "    </tr>\n",
       "  </tbody>\n",
       "</table>\n",
       "<p>5 rows × 122 columns</p>\n",
       "</div>"
      ],
      "text/plain": [
       "         time        cell0        cell7       cell12        cell17  \\\n",
       "55495  5549.5  2563.463831  6167.933510  9469.714759  21194.690321   \n",
       "55496  5549.6  2565.182207  6138.686000  9426.480422  21219.727809   \n",
       "55497  5549.7  2566.922151  6109.605878  9383.371026  21244.653791   \n",
       "55498  5549.8  2568.683645  6080.692983  9340.387630  21269.467668   \n",
       "55499  5549.9  2570.466670  6051.947146  9297.531280  21294.168844   \n",
       "\n",
       "            cell22       cell27       cell32       cell37        cell42  \\\n",
       "55495  3154.407507  3190.757608  3441.396450  9796.382351  21163.983820   \n",
       "55496  3159.829807  3196.362140  3448.124033  9752.294017  21134.178909   \n",
       "55497  3165.277285  3201.992386  3454.880952  9708.321666  21104.187290   \n",
       "55498  3170.750011  3207.648420  3461.667311  9664.466434  21074.009476   \n",
       "55499  3176.248057  3213.330318  3468.483214  9620.729447  21043.645990   \n",
       "\n",
       "          ...           cell373       cell376       cell379       cell382  \\\n",
       "55495     ...       2524.833888  21657.316769  21276.125288  11150.769909   \n",
       "55496     ...       2523.472302  21630.760045  21300.565182  11103.849126   \n",
       "55497     ...       2522.139405  21604.008713  21324.890950  11057.006297   \n",
       "55498     ...       2520.835088  21577.063175  21349.101997  11010.242785   \n",
       "55499     ...               NaN           NaN           NaN           NaN   \n",
       "\n",
       "           cell385      cell389      cell392      cell396       cell399  \\\n",
       "55495  3621.227295  8176.442545  2491.107330  8976.175600  22469.896152   \n",
       "55496  3628.755678  8201.431567  2490.851535  9003.438444  22486.601924   \n",
       "55497  3636.316348  8226.496816  2490.620835  9030.774954  22503.158927   \n",
       "55498  3643.909428  8251.638264  2490.415161  9058.185001  22519.566592   \n",
       "55499          NaN          NaN          NaN          NaN           NaN   \n",
       "\n",
       "           cell403  \n",
       "55495  6736.993722  \n",
       "55496  6757.188640  \n",
       "55497  6777.456099  \n",
       "55498  6797.796221  \n",
       "55499          NaN  \n",
       "\n",
       "[5 rows x 122 columns]"
      ]
     },
     "execution_count": 16,
     "metadata": {},
     "output_type": "execute_result"
    }
   ],
   "source": [
    "df_myosin.tail()"
   ]
  },
  {
   "cell_type": "code",
   "execution_count": 24,
   "metadata": {
    "collapsed": false
   },
   "outputs": [],
   "source": [
    "tspan = [0,5549]\n",
    "center_node = 403\n",
    "cell = 'cell' + str(center_node)\n"
   ]
  },
  {
   "cell_type": "code",
   "execution_count": 25,
   "metadata": {
    "collapsed": false
   },
   "outputs": [
    {
     "data": {
      "image/png": "[encoded data removed]",
      "text/plain": [
       "<matplotlib.figure.Figure at 0x7f26102706d8>"
      ]
     },
     "metadata": {},
     "output_type": "display_data"
    },
    {
     "data": {
      "image/png": "[encoded data removed]",
      "text/plain": [
       "<matplotlib.figure.Figure at 0x7f26101dbd30>"
      ]
     },
     "metadata": {},
     "output_type": "display_data"
    },
    {
     "data": {
      "image/png": "[encoded data removed]",
      "text/plain": [
       "<matplotlib.figure.Figure at 0x7f2610114cc0>"
      ]
     },
     "metadata": {},
     "output_type": "display_data"
    }
   ],
   "source": [
    "plt.figure(1)\n",
    "plt.title('myosin')\n",
    "plt.plot(df_myosin['time'],df_myosin[cell])\n",
    "plt.xlim(tspan)\n",
    "plt.ylim([0,100000])\n",
    "plt.xlabel(\"time\")\n",
    "plt.ylabel(\"motors in cell\")\n",
    "plt.show()\n",
    "\n",
    "plt.figure(2)\n",
    "plt.title('area')\n",
    "plt.plot(df_area['time'],df_area[cell])\n",
    "plt.xlim(tspan)\n",
    "plt.ylim([100,200])\n",
    "plt.xlabel(\"time\")\n",
    "plt.ylabel(\"$\\mu m^2$\")\n",
    "plt.show()\n",
    "\n",
    "plt.figure(3)\n",
    "plt.title('reg')\n",
    "plt.plot(df_reg['time'],df_reg[cell])\n",
    "plt.xlim(tspan)\n",
    "plt.ylim([0,0.05])\n",
    "plt.xlabel(\"time\")\n",
    "plt.ylabel(\"$\\mu M$\")\n",
    "plt.show()"
   ]
  },
  {
   "cell_type": "code",
   "execution_count": 26,
   "metadata": {
    "collapsed": false
   },
   "outputs": [
    {
     "data": {
      "image/png": "[encoded data removed]",
      "text/plain": [
       "<matplotlib.figure.Figure at 0x7f26100c7710>"
      ]
     },
     "metadata": {},
     "output_type": "display_data"
    }
   ],
   "source": [
    "fig, ax1 = plt.subplots()\n",
    "plt.title('area')\n",
    "ax1.plot(df_area['time'],df_area[cell],'b-')\n",
    "ax1.set_xlabel('time (s)')\n",
    "ax1.set_xlim([0,7500])\n",
    "ax1.set_ylim([100,200])\n",
    "ax1.set_ylabel('area', color='b')\n",
    "ax1.tick_params('y', colors='b')\n",
    "\n",
    "ax2 = ax1.twinx()\n",
    "ax2.plot(df_myosin['time'],df_myosin[cell],'r-')\n",
    "ax2.set_xlim([0,7500])\n",
    "ax2.set_ylim([0,100000])\n",
    "ax2.set_ylabel('myosin', color='r')\n",
    "ax2.tick_params('y', colors='r')\n",
    "fig.tight_layout()\n",
    "plt.show()"
   ]
  },
  {
   "cell_type": "code",
   "execution_count": 27,
   "metadata": {
    "collapsed": false
   },
   "outputs": [],
   "source": [
    "area = df_area[cell]\n",
    "myosin = df_myosin[cell]"
   ]
  },
  {
   "cell_type": "code",
   "execution_count": 28,
   "metadata": {
    "collapsed": false
   },
   "outputs": [],
   "source": [
    "# Convert number of molecules to a concentration\n",
    "# mols = Number of molecules\n",
    "# cell_vol = volume in micro-meters^3\n",
    "# N_A = 6.022*10^23 (Avogadro's Number)\n",
    "# Returns concentration in Molar\n",
    "\n",
    "def mol2conc(mols, cell_vol, N_A):\n",
    "    conc = mols*10**(3)*10**(12)*(1/N_A)*(1/cell_vol)     \n",
    "    return conc\n",
    "\n",
    "# Convert a concentration to number of molecules\n",
    "# IC = concentration (in Molar)\n",
    "# cell_vol = volume in micro-meters^3\n",
    "# N_A = 6.022*10^23 (Avogadro's Number)\n",
    "# Returns number of molecules\n",
    "\n",
    "def conc2mol(IC, cell_vol, N_A):\n",
    "    Mol = IC*10**(-3)*10**(-12)*N_A*cell_vol\n",
    "    return Mol"
   ]
  },
  {
   "cell_type": "code",
   "execution_count": 29,
   "metadata": {
    "collapsed": true
   },
   "outputs": [],
   "source": [
    "Na = 6.022*10**23"
   ]
  },
  {
   "cell_type": "code",
   "execution_count": 30,
   "metadata": {
    "collapsed": true
   },
   "outputs": [],
   "source": [
    "myo_conc = mol2conc(myosin,area*5,Na)"
   ]
  },
  {
   "cell_type": "code",
   "execution_count": 31,
   "metadata": {
    "collapsed": false
   },
   "outputs": [
    {
     "data": {
      "text/plain": [
       "<matplotlib.text.Text at 0x7f26100ef2e8>"
      ]
     },
     "execution_count": 31,
     "metadata": {},
     "output_type": "execute_result"
    },
    {
     "data": {
      "image/png": "[encoded data removed]",
      "text/plain": [
       "<matplotlib.figure.Figure at 0x7f26100a7c18>"
      ]
     },
     "metadata": {},
     "output_type": "display_data"
    }
   ],
   "source": [
    "plt.plot(myo_conc*10**6)\n",
    "plt.xlim([tspan[0],tspan[1]*10])\n",
    "plt.ylim([0,0.5])\n",
    "plt.ylabel('$\\mu$ M')"
   ]
  },
  {
   "cell_type": "code",
   "execution_count": null,
   "metadata": {
    "collapsed": true
   },
   "outputs": [],
   "source": []
  },
  {
   "cell_type": "code",
   "execution_count": null,
   "metadata": {
    "collapsed": true
   },
   "outputs": [],
   "source": []
  }
 ],
 "metadata": {
  "kernelspec": {
   "display_name": "Python 3",
   "language": "python",
   "name": "python3"
  },
  "language_info": {
   "codemirror_mode": {
    "name": "ipython",
    "version": 3
   },
   "file_extension": ".py",
   "mimetype": "text/x-python",
   "name": "python",
   "nbconvert_exporter": "python",
   "pygments_lexer": "ipython3",
   "version": "3.5.1"
  }
 },
 "nbformat": 4,
 "nbformat_minor": 0
}
