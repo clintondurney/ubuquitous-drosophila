{
 "cells": [
  {
   "cell_type": "code",
   "execution_count": 1,
   "metadata": {
    "collapsed": false
   },
   "outputs": [],
   "source": [
    "import networkx as nx\n",
    "import matplotlib.pyplot as plt\n",
    "import numpy as np\n",
    "import itertools\n",
    "from scipy.spatial import distance\n",
    "%matplotlib inline"
   ]
  },
  {
   "cell_type": "code",
   "execution_count": 2,
   "metadata": {
    "collapsed": true
   },
   "outputs": [],
   "source": [
    "def unit_vector(A,B):\n",
    "    # Calculate the unit vector from A to B \n",
    "\n",
    "    dist = distance.euclidean(A,B)\n",
    "\n",
    "    return ((B[0]-A[0])/dist,(B[1]-A[1])/dist)\n",
    "\n",
    "def calc_force(l, myosin,b):\n",
    "\n",
    "    return 10*(l-1) + b*myosin\n",
    "\n",
    "def d_pos(position,force,dt):\n",
    "\n",
    "    x_new = position[0] + (dt/const.eta)*force[0]\n",
    "\n",
    "    y_new = position[1] + (dt/const.eta)*force[1]\n",
    "\n",
    "    return (x_new,y_new)\n",
    "\n",
    "def CellArea(corners):\n",
    "    n = len(corners) # of corners\n",
    "    area = 0.0\n",
    "    for i in range(n):\n",
    "        j = (i + 1) % n\n",
    "        area += corners[i][0] * corners[j][1]\n",
    "        area -= corners[j][0] * corners[i][1]\n",
    "    area = abs(area) / 2.0\n",
    "    return area\n"
   ]
  },
  {
   "cell_type": "code",
   "execution_count": 24,
   "metadata": {
    "collapsed": false
   },
   "outputs": [],
   "source": [
    "G = nx.Graph()\n",
    "\n",
    "r = 7.6\n",
    "n = 9\n",
    "\n",
    "# Center cell set up\n",
    "origin = (0.0,0.0)\n",
    "p0 = (r,0.0)\n",
    "p1 = (r*np.cos(np.pi/3),r*np.sin(np.pi/3))\n",
    "p2 = (r*np.cos(2*np.pi/3),r*np.sin(2*np.pi/3))\n",
    "p3 = (r*np.cos(3*np.pi/3),r*np.sin(3*np.pi/3))\n",
    "p4 = (r*np.cos(4*np.pi/3),r*np.sin(4*np.pi/3))\n",
    "p5 = (r*np.cos(5*np.pi/3),r*np.sin(5*np.pi/3))\n",
    "nodes = [p0,p1,p2,p3,p4,p5]\n",
    "\n",
    "i = 0\n",
    "G.add_node(i,pos=origin)\n",
    "\n",
    "boundary = []\n",
    "spokes = []\n",
    "i += 1 \n",
    "for node in nodes:\n",
    "    G.add_node(i,pos=node)\n",
    "    boundary.append(i)\n",
    "    spokes.append((0,i))\n",
    "    i += 1\n",
    "boundary.append(boundary[0])\n",
    "    \n",
    "G.add_edges_from(spokes,beta=10,myosin=1000)    \n",
    "G.add_path(boundary,beta=0,myosin=0,color='r')\n",
    "\n",
    "\n",
    "# # Middle Top Cell with Cap\n",
    "# origin = 1.5*r, r*np.cos(np.pi/6)\n",
    "# p1 = (origin[0] + r*np.cos(np.pi/3), origin[1] +r* np.sin(np.pi/3))\n",
    "# p2 = (origin[0] + r*np.cos(2*np.pi/3), origin[1] + r*np.sin(2*np.pi/3))\n",
    "    \n",
    "# nodes = [p1,p2]\n",
    "    \n",
    "# G.add_node(i,pos=origin,center=True, phase_angle = 10000, boundary=[16,8,9,2,1,17])\n",
    "# i +=1\n",
    "    \n",
    "# for node in nodes:\n",
    "#     G.add_node(i,pos=node,center=False)\n",
    "#     i += 1\n",
    "    \n",
    "# # Middle Bottom Cell with Cap\n",
    "# origin = 1.5*r, -r*np.cos(np.pi/6)\n",
    "# p4 = (origin[0] + r*np.cos(4*np.pi/3), origin[1] + r*np.sin(4*np.pi/3))\n",
    "# p5 = (origin[0] + r*np.cos(5*np.pi/3), origin[1] + r*np.sin(5*np.pi/3))\n",
    "# nodes = [p4,p5]\n",
    "    \n",
    "# G.add_node(i,pos=origin,center=True,phase_angle = 10000, boundary=[18,17,1,6,11,12])\n",
    "# i+=1\n",
    "    \n",
    "# for node in nodes:\n",
    "#     G.add_node(i,pos=node,center=False)\n",
    "#     i += 1\n",
    "    \n",
    "# # Right most cell\n",
    "# origin = 1.5*2*r, 0\n",
    "# p0 = (origin[0] + r, origin[1] + 0)\n",
    "# p1 = (origin[0] + r*np.cos(np.pi/3), origin[1] + r*np.sin(np.pi/3))\n",
    "# p2 = (origin[0] + r*np.cos(2*np.pi/3), origin[1] + r*np.sin(2*np.pi/3))\n",
    "# p3 = (origin[0] + r*np.cos(3*np.pi/3), origin[1] + r*np.sin(3*np.pi/3))\n",
    "# p4 = (origin[0] + r*np.cos(4*np.pi/3), origin[1] + r*np.sin(4*np.pi/3))\n",
    "# p5 = (origin[0] + r*np.cos(5*np.pi/3), origin[1] + r*np.sin(5*np.pi/3))\n",
    "# nodes = [p0,p1,p2,p3,p4,p5]\n",
    "    \n",
    "# G.add_node(i,pos=origin,center=True,phase_angle = 0, boundary=[14,15,16,17,18,19])\n",
    "# i+=1\n",
    "    \n",
    "# for node in nodes:\n",
    "#     G.add_node(i,pos=node,center=False)\n",
    "#     i += 1\n",
    "\n",
    "# origin = 1.5*2*r, 2*r*np.cos(np.pi/6)\n",
    "# p0 = (origin[0] + r, origin[1] + 0)\n",
    "# p1 = (origin[0] + r*np.cos(np.pi/3), origin[1] + r*np.sin(np.pi/3))\n",
    "# p2 = (origin[0] + r*np.cos(2*np.pi/3), origin[1] + r*np.sin(2*np.pi/3))\n",
    "# nodes = [p0,p1,p2]\n",
    "\n",
    "# G.add_node(i,pos=origin,center=True,phase_angle = 0, boundary=[21,22,23,8,16,15])\n",
    "# i+=1\n",
    "    \n",
    "# for node in nodes:\n",
    "#     G.add_node(i,pos=node,center=False)\n",
    "#     i += 1\n",
    "\n",
    "# origin = 1.5*2*r, -2*r*np.cos(np.pi/6)\n",
    "# p0 = (origin[0] + r, origin[1] + 0)\n",
    "# p4 = (origin[0] + r*np.cos(4*np.pi/3), origin[1] + r*np.sin(4*np.pi/3))\n",
    "# p5 = (origin[0] + r*np.cos(5*np.pi/3), origin[1] + r*np.sin(5*np.pi/3))\n",
    "# nodes = [p0,p4,p5]\n",
    "\n",
    "# G.add_node(i,pos=origin,center=True,phase_angle = 0, boundary=[25,19,18,12,26,27])\n",
    "# i+=1\n",
    "    \n",
    "# for node in nodes:\n",
    "#     G.add_node(i,pos=node,center=False)\n",
    "#     i += 1\n",
    "\n",
    "# origin = 3*(1.5*r), r*np.cos(np.pi/6)\n",
    "# p0 = (origin[0] + r, origin[1] + 0.0)\n",
    "# p1 = (origin[0] + r*np.cos(np.pi/3), origin[1] + r*np.sin(np.pi/3))\n",
    "# p5 = (origin[0] + r*np.cos(5*np.pi/3), origin[1] + r*np.sin(5*np.pi/3))\n",
    "# nodes = [p0,p1,p5]\n",
    "    \n",
    "# G.add_node(i,pos=origin,center=True, phase_angle = 10000, boundary=[29,30,21,15,14,31])\n",
    "# i +=1\n",
    "    \n",
    "# for node in nodes:\n",
    "#     G.add_node(i,pos=node,center=False)\n",
    "#     i += 1\n",
    "\n",
    "# origin = 3*(1.5*r), -r*np.cos(np.pi/6)\n",
    "# p0 = (origin[0] + r, origin[1] + 0)\n",
    "# p5 = (origin[0] + r*np.cos(5*np.pi/3), origin[1] + r*np.sin(5*np.pi/3))\n",
    "# nodes = [p0,p5]\n",
    "\n",
    "# G.add_node(i,pos=origin,center=True, phase_angle = 10000, boundary=[33,31,14,19,25,34])\n",
    "# i +=1\n",
    "    \n",
    "# for node in nodes:\n",
    "#     G.add_node(i,pos=node,center=False)\n",
    "#     i += 1\n",
    "    \n",
    "# origin = 4*(1.5*r), 0\n",
    "# p0 = (origin[0] + r, origin[1] + 0)\n",
    "# p1 = (origin[0] + r*np.cos(np.pi/3), origin[1] + r*np.sin(np.pi/3))\n",
    "# p5 = (origin[0] + r*np.cos(5*np.pi/3), origin[1] + r*np.sin(5*np.pi/3))\n",
    "# nodes = [p0,p1,p5]\n",
    "\n",
    "# G.add_node(i,pos=origin,center=True, phase_angle = 10000, boundary=[36,37,29,31,33,38])\n",
    "# i +=1\n",
    "    \n",
    "# for node in nodes:\n",
    "#     G.add_node(i,pos=node,center=False)\n",
    "#     i += 1"
   ]
  },
  {
   "cell_type": "code",
   "execution_count": 25,
   "metadata": {
    "collapsed": false
   },
   "outputs": [
    {
     "data": {
      "image/png": "[encoded data removed]",
      "text/plain": [
       "<matplotlib.figure.Figure at 0x7f9ab4d7feb8>"
      ]
     },
     "metadata": {},
     "output_type": "display_data"
    }
   ],
   "source": [
    "pos = nx.get_node_attributes(G,'pos')\n",
    "nx.draw(G,pos, with_labels=True,node_size=2)\n",
    "plt.axis(\"on\")\n",
    "plt.grid(\"on\")\n",
    "\n",
    "plt.show()"
   ]
  },
  {
   "cell_type": "code",
   "execution_count": 26,
   "metadata": {
    "collapsed": false
   },
   "outputs": [
    {
     "data": {
      "image/png": "[encoded data removed]",
      "text/plain": [
       "<matplotlib.figure.Figure at 0x7f9ab4de8e80>"
      ]
     },
     "metadata": {},
     "output_type": "display_data"
    }
   ],
   "source": [
    "pos = nx.get_node_attributes(G,'pos')\n",
    "edges,colors = zip(*nx.get_edge_attributes(G,'color').items())\n",
    "nx.draw(G,pos, node_size = 1, edgelist=edges,edge_color=colors,width=1)\n",
    "plt.axis(\"on\")\n",
    "plt.grid(\"on\")\n",
    "\n",
    "plt.show()"
   ]
  },
  {
   "cell_type": "code",
   "execution_count": null,
   "metadata": {
    "collapsed": true
   },
   "outputs": [],
   "source": []
  }
 ],
 "metadata": {
  "kernelspec": {
   "display_name": "Python 3",
   "language": "python",
   "name": "python3"
  },
  "language_info": {
   "codemirror_mode": {
    "name": "ipython",
    "version": 3
   },
   "file_extension": ".py",
   "mimetype": "text/x-python",
   "name": "python",
   "nbconvert_exporter": "python",
   "pygments_lexer": "ipython3",
   "version": "3.5.1"
  }
 },
 "nbformat": 4,
 "nbformat_minor": 0
}
