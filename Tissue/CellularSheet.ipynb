{
 "cells": [
  {
   "cell_type": "code",
   "execution_count": 1,
   "metadata": {
    "collapsed": false
   },
   "outputs": [],
   "source": [
    "import networkx as nx\n",
    "import matplotlib.pyplot as plt\n",
    "import numpy as np\n",
    "import itertools\n",
    "from scipy.spatial import distance\n",
    "# %matplotlib inline"
   ]
  },
  {
   "cell_type": "code",
   "execution_count": 2,
   "metadata": {
    "collapsed": true
   },
   "outputs": [],
   "source": [
    "def unit_vector(A,B):\n",
    "    # Calculate the unit vector from A to B \n",
    "\n",
    "    dist = distance.euclidean(A,B)\n",
    "\n",
    "    return ((B[0]-A[0])/dist,(B[1]-A[1])/dist)\n",
    "\n",
    "def calc_force(l, myosin,b):\n",
    "\n",
    "    return 10*(l-1) + b*myosin\n",
    "\n",
    "def d_pos(position,force,dt):\n",
    "\n",
    "    x_new = position[0] + (dt/const.eta)*force[0]\n",
    "\n",
    "    y_new = position[1] + (dt/const.eta)*force[1]\n",
    "\n",
    "    return (x_new,y_new)\n",
    "\n",
    "def CellArea(corners):\n",
    "    n = len(corners) # of corners\n",
    "    area = 0.0\n",
    "    for i in range(n):\n",
    "        j = (i + 1) % n\n",
    "        area += corners[i][0] * corners[j][1]\n",
    "        area -= corners[j][0] * corners[i][1]\n",
    "    area = abs(area) / 2.0\n",
    "    return area\n"
   ]
  },
  {
   "cell_type": "code",
   "execution_count": 3,
   "metadata": {
    "collapsed": false
   },
   "outputs": [],
   "source": [
    "def tissue():\n",
    "    def gen_nodes(ori):\n",
    "        nodes = []\n",
    "        for n in range(0,6):\n",
    "            nodes.append((ori[0] + r*np.cos(n*np.pi/3), ori[1] + r*np.sin(n*np.pi/3)))\n",
    "        return nodes\n",
    "\n",
    "    def add_nodes(nodes, i):\n",
    "        pos = nx.get_node_attributes(G,'pos')\n",
    "        cen_index = i-1\n",
    "        centers.append(cen_index)\n",
    "        boundary = []\n",
    "        spokes = []\n",
    "        for node in nodes:\n",
    "            add_node = True\n",
    "            for existing_node in range(0,len(pos)):\n",
    "                if distance.euclidean(pos[existing_node],node) < 10**(-7):\n",
    "                    add_node = False\n",
    "                    boundary.append(existing_node)\n",
    "                    spokes.append((cen_index,existing_node))\n",
    "                    break\n",
    "\n",
    "            if add_node == True:\n",
    "                G.add_node(i,pos=node)\n",
    "                i += 1\n",
    "                boundary.append(i-1)\n",
    "                spokes.append((cen_index,i-1))\n",
    "\n",
    "        return boundary, spokes, i\n",
    "\n",
    "    def add_spokes_edges(spokes, boundary):\n",
    "        boundary.append(boundary[0])\n",
    "        G.add_edges_from(spokes,beta=10,myosin=1000)    \n",
    "        G.add_path(boundary,beta=0,myosin=0,color='r')\n",
    "\n",
    "        return\n",
    "\n",
    "    G = nx.Graph()\n",
    "\n",
    "    r = 7.6        # initial spoke length\n",
    "    num_cells = 5  # number of cells in center row\n",
    "\n",
    "    centers = []\n",
    "    i = 0\n",
    "    # Center cell set up\n",
    "    origin = (0.0,0.0)\n",
    "    G.add_node(i,pos=origin)\n",
    "    i += 1\n",
    "\n",
    "    nodes = gen_nodes(origin)\n",
    "    boundary, spokes, i = add_nodes(nodes,i)\n",
    "    add_spokes_edges(spokes, boundary)\n",
    "\n",
    "    for index in range(1,int((num_cells - 1)/2.)+1):\n",
    "        # # Step Up\n",
    "        origin = (0, np.sqrt(3)*r*index)\n",
    "        G.add_node(i,pos=origin)\n",
    "        i += 1\n",
    "\n",
    "        nodes = gen_nodes(origin)\n",
    "        boundary, spokes, i = add_nodes(nodes,i)\n",
    "        add_spokes_edges(spokes, boundary)\n",
    "\n",
    "        # # # Step down\n",
    "        origin = (0, -np.sqrt(3)*r*index)\n",
    "        G.add_node(i,pos=origin)\n",
    "        i += 1\n",
    "\n",
    "        nodes = gen_nodes(origin)\n",
    "        boundary, spokes, i = add_nodes(nodes,i)\n",
    "        add_spokes_edges(spokes, boundary)\n",
    "\n",
    "    for index in range(1,num_cells):  \n",
    "        if (num_cells - index) % 2 == 0:\n",
    "            for j in range(1,(num_cells-index),2):\n",
    "                origin = ((3/2.)*r*index,(np.sqrt(3)/2.)*r*j)\n",
    "                G.add_node(i,pos=origin)\n",
    "                i += 1\n",
    "\n",
    "                nodes = gen_nodes(origin)\n",
    "                boundary, spokes, i = add_nodes(nodes,i)\n",
    "                add_spokes_edges(spokes, boundary)\n",
    "\n",
    "                origin = ((3/2.)*r*index,(-np.sqrt(3)/2.)*r*j)\n",
    "                G.add_node(i,pos=origin)\n",
    "                i += 1\n",
    "\n",
    "                nodes = gen_nodes(origin)\n",
    "                boundary, spokes, i = add_nodes(nodes,i)\n",
    "                add_spokes_edges(spokes, boundary)\n",
    "\n",
    "            # Step Left\n",
    "\n",
    "                origin = (-(3/2.)*r*index,(np.sqrt(3)/2.)*r*j)\n",
    "                G.add_node(i,pos=origin)\n",
    "                i += 1\n",
    "\n",
    "                nodes = gen_nodes(origin)\n",
    "                boundary, spokes, i = add_nodes(nodes,i)\n",
    "                add_spokes_edges(spokes, boundary)\n",
    "\n",
    "                origin = (-(3/2.)*r*index,(-np.sqrt(3)/2.)*r*j)\n",
    "                G.add_node(i,pos=origin)\n",
    "                i += 1\n",
    "\n",
    "                nodes = gen_nodes(origin)\n",
    "                boundary, spokes, i = add_nodes(nodes,i)\n",
    "                add_spokes_edges(spokes, boundary)\n",
    "\n",
    "        else:\n",
    "            for j in range(0,(num_cells-index),2):\n",
    "                origin = (3*(1/2.)*r*index, (np.sqrt(3)/2.)*r*j)\n",
    "                G.add_node(i,pos=origin)\n",
    "                i += 1\n",
    "\n",
    "                nodes = gen_nodes(origin)\n",
    "                boundary, spokes, i = add_nodes(nodes,i)\n",
    "                add_spokes_edges(spokes, boundary)\n",
    "                \n",
    "                if j != 0:\n",
    "                    origin = (3*(1/2.)*r*index, -(np.sqrt(3)/2.)*r*j)\n",
    "                    G.add_node(i,pos=origin)\n",
    "                    i += 1\n",
    "\n",
    "                    nodes = gen_nodes(origin)\n",
    "                    boundary, spokes, i = add_nodes(nodes,i)\n",
    "                    add_spokes_edges(spokes, boundary)\n",
    "\n",
    "                # Step Left\n",
    "                origin = (-3*(1/2.)*r*index, (np.sqrt(3)/2.)*r*j)\n",
    "                G.add_node(i,pos=origin)\n",
    "                i += 1\n",
    "\n",
    "                nodes = gen_nodes(origin)\n",
    "                boundary, spokes, i = add_nodes(nodes,i)\n",
    "                add_spokes_edges(spokes, boundary)\n",
    "                \n",
    "                if j != 0:\n",
    "                    origin = (-3*(1/2.)*r*index, -(np.sqrt(3)/2.)*r*j)\n",
    "                    G.add_node(i,pos=origin)\n",
    "                    i += 1\n",
    "\n",
    "                    nodes = gen_nodes(origin)\n",
    "                    boundary, spokes, i = add_nodes(nodes,i)\n",
    "                    add_spokes_edges(spokes, boundary)\n",
    "\n",
    "    nx.set_node_attributes(G, 'time_lag', 0)\n",
    "    \n",
    "    for j in centers:\n",
    "            G.node[j]['time_lag'] = np.random.randint(0,2000)\n",
    "    \n",
    "    boundary = []\n",
    "    for j in G.nodes_iter():\n",
    "        if G.degree(j) == 3 or G.degree(j) == 5:\n",
    "            boundary.append(j)\n",
    "    \n",
    "    return G, centers, boundary"
   ]
  },
  {
   "cell_type": "code",
   "execution_count": 4,
   "metadata": {
    "collapsed": false
   },
   "outputs": [],
   "source": [
    "G, centers, boundary = tissue()\n",
    "pos = nx.get_node_attributes(G,'pos')\n",
    "nx.draw(G,pos, with_labels=True,node_size=2)\n",
    "plt.axis(\"on\")\n",
    "plt.grid(\"on\")\n",
    "plt.axis('equal')\n",
    "plt.show()"
   ]
  },
  {
   "cell_type": "code",
   "execution_count": 5,
   "metadata": {
    "collapsed": false
   },
   "outputs": [],
   "source": [
    "pos = nx.get_node_attributes(G,'pos')\n",
    "edges,colors = zip(*nx.get_edge_attributes(G,'color').items())\n",
    "nx.draw(G,pos, node_size = 1, edgelist=edges,edge_color=colors,width=1)\n",
    "plt.axis(\"on\")\n",
    "plt.grid(\"on\")\n",
    "plt.axis('equal')\n",
    "plt.show()"
   ]
  },
  {
   "cell_type": "code",
   "execution_count": 6,
   "metadata": {
    "collapsed": false
   },
   "outputs": [
    {
     "data": {
      "text/plain": [
       "[0,\n",
       " 7,\n",
       " 12,\n",
       " 17,\n",
       " 22,\n",
       " 27,\n",
       " 31,\n",
       " 34,\n",
       " 38,\n",
       " 41,\n",
       " 44,\n",
       " 47,\n",
       " 50,\n",
       " 53,\n",
       " 57,\n",
       " 61,\n",
       " 64,\n",
       " 67,\n",
       " 70,\n",
       " 73,\n",
       " 77,\n",
       " 80,\n",
       " 84,\n",
       " 87,\n",
       " 91]"
      ]
     },
     "execution_count": 6,
     "metadata": {},
     "output_type": "execute_result"
    }
   ],
   "source": [
    "centers"
   ]
  },
  {
   "cell_type": "code",
   "execution_count": 7,
   "metadata": {
    "collapsed": false
   },
   "outputs": [
    {
     "data": {
      "text/plain": [
       "6"
      ]
     },
     "execution_count": 7,
     "metadata": {},
     "output_type": "execute_result"
    }
   ],
   "source": [
    "G.degree(0)"
   ]
  },
  {
   "cell_type": "code",
   "execution_count": 8,
   "metadata": {
    "collapsed": false
   },
   "outputs": [
    {
     "data": {
      "text/plain": [
       "[19,\n",
       " 20,\n",
       " 25,\n",
       " 26,\n",
       " 43,\n",
       " 46,\n",
       " 48,\n",
       " 52,\n",
       " 63,\n",
       " 66,\n",
       " 68,\n",
       " 72,\n",
       " 75,\n",
       " 79,\n",
       " 81,\n",
       " 86,\n",
       " 88,\n",
       " 89,\n",
       " 90,\n",
       " 92,\n",
       " 93,\n",
       " 94]"
      ]
     },
     "execution_count": 8,
     "metadata": {},
     "output_type": "execute_result"
    }
   ],
   "source": [
    "boundary = []\n",
    "for j in G.nodes_iter():\n",
    "    if G.degree(j) == 3:\n",
    "        boundary.append(j)\n",
    "boundary "
   ]
  },
  {
   "cell_type": "code",
   "execution_count": null,
   "metadata": {
    "collapsed": true
   },
   "outputs": [],
   "source": []
  }
 ],
 "metadata": {
  "kernelspec": {
   "display_name": "Python 3",
   "language": "python",
   "name": "python3"
  },
  "language_info": {
   "codemirror_mode": {
    "name": "ipython",
    "version": 3
   },
   "file_extension": ".py",
   "mimetype": "text/x-python",
   "name": "python",
   "nbconvert_exporter": "python",
   "pygments_lexer": "ipython3",
   "version": "3.5.1"
  }
 },
 "nbformat": 4,
 "nbformat_minor": 0
}
