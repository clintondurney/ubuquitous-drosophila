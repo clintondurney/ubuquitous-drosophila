{
 "cells": [
  {
   "cell_type": "code",
   "execution_count": 1,
   "metadata": {
    "collapsed": true
   },
   "outputs": [],
   "source": [
    "%matplotlib inline"
   ]
  },
  {
   "cell_type": "code",
   "execution_count": 2,
   "metadata": {
    "collapsed": true
   },
   "outputs": [],
   "source": [
    "def unit_vector(A,B):\n",
    "    # Calculate the unit vector from A to B \n",
    "\n",
    "    dist = distance.euclidean(A,B)\n",
    "\n",
    "    return ((B[0]-A[0])/dist,(B[1]-A[1])/dist)\n",
    "\n",
    "def calc_force(l, myosin,b):\n",
    "\n",
    "    return 10*(l-1) + b*myosin\n",
    "\n",
    "def d_pos(position,force,dt):\n",
    "\n",
    "    x_new = position[0] + (dt/const.eta)*force[0]\n",
    "\n",
    "    y_new = position[1] + (dt/const.eta)*force[1]\n",
    "\n",
    "    return (x_new,y_new)\n",
    "\n",
    "def CellArea(corners):\n",
    "    n = len(corners) # of corners\n",
    "    area = 0.0\n",
    "    for i in range(n):\n",
    "        j = (i + 1) % n\n",
    "        area += corners[i][0] * corners[j][1]\n",
    "        area -= corners[j][0] * corners[i][1]\n",
    "    area = abs(area) / 2.0\n",
    "    return area\n"
   ]
  },
  {
   "cell_type": "code",
   "execution_count": 159,
   "metadata": {
    "collapsed": false
   },
   "outputs": [],
   "source": [
    "import networkx as nx\n",
    "import matplotlib.pyplot as plt\n",
    "import numpy as np\n",
    "import itertools\n",
    "from scipy.spatial import distance\n",
    "#import globals as const\n",
    "\n",
    "def tissue():\n",
    "    r = 7.6\n",
    "    xx = np.arange(0,15*r,r)\n",
    "    yy = np.arange(0,11*r*np.sqrt(3)*0.5,r*np.sqrt(3)*0.5)\n",
    "    points = list(itertools.product(xx,yy))\n",
    "\n",
    "    # shear the points\n",
    "    m = np.sqrt(3)/3\n",
    "\n",
    "    new_points = []\n",
    "    for i in range(0,len(points)):\n",
    "        x = points[i][0] + m*points[i][1]\n",
    "        y = points[i][1]\n",
    "        new_points.append((x,y))  \n",
    "\n",
    "    points = new_points\n",
    "\n",
    "    G = nx.Graph()\n",
    "    for i in range(0,len(points)):\n",
    "        G.add_node(i,pos=points[i])\n",
    "\n",
    "    section_1 = [0,1,2,3,4,11,12,13,14,22,23,24,25,33,34,35,44,45,46,55,56,66,67,77,88]\n",
    "    section_2 = [121,132,133,143,144,145,154,155,156,157]\n",
    "    section_3 = [7,8,9,10,19,20,21,31,32,43]\n",
    "    section_4 = [76,87,98,109,120,131,142,153,164,97,108,119,130,141,152,163,118,129,140,151,162,139,150,161,160]\n",
    "\n",
    "    G.remove_nodes_from(section_1)\n",
    "    G.remove_nodes_from(section_2)\n",
    "    G.remove_nodes_from(section_3)\n",
    "    G.remove_nodes_from(section_4)\n",
    "\n",
    "    G = nx.convert_node_labels_to_integers(G,first_label=0)\n",
    "\n",
    "    G.add_path([0,1,4,7,6,2,0],beta=0,myosin=0,color='r')\n",
    "    G.add_path([6,11,18,19,13,7],beta=0,myosin=0,color='r')\n",
    "    G.add_path([18,26,35,36,28,19],beta=0,myosin=0,color='r')\n",
    "    G.add_path([4,5,9,14,13],beta=0,myosin=0,color='r')\n",
    "    G.add_path([14,21,29,28],beta=0,myosin=0,color='r')\n",
    "    G.add_path([9,10,16,22,21],beta=0,myosin=0,color='r')\n",
    "    G.add_path([22,31,39,38,29],beta=0,myosin=0,color='r')\n",
    "    G.add_path([38,46,45,36],beta=0,myosin=0,color='r')\n",
    "    G.add_path([35,43,52,53,45],beta=0,myosin=0,color='r')\n",
    "    G.add_path([31,32,24,17,16],beta=0,myosin=0,color='r')\n",
    "    G.add_path([32,41,42,34,25,24],beta=0,myosin=0,color='r')\n",
    "    G.add_path([39,48,49,41],beta=0,myosin=0,color='r')\n",
    "    G.add_path([46,55,56,48],beta=0,myosin=0,color='r')\n",
    "    G.add_path([53,62,63,55],beta=0,myosin=0,color='r')\n",
    "    G.add_path([52,60,69,70,62],beta=0,myosin=0,color='r')\n",
    "    G.add_path([70,77,78,72,63],beta=0,myosin=0,color='r')\n",
    "    G.add_path([72,73,65,56],beta=0,myosin=0,color='r')\n",
    "    G.add_path([65,66,58,49],beta=0,myosin=0,color='r')\n",
    "    G.add_path([58,59,51,42],beta=0,myosin=0,color='r')\n",
    "    G.add_path([66,75,76,68,59],beta=0,myosin=0,color='r')\n",
    "    G.add_path([73,80,81,75],beta=0,myosin=0,color='r')\n",
    "    G.add_path([78,84,85,80],beta=0,myosin=0,color='r')\n",
    "    G.add_path([81,87,88,83,76],beta=0,myosin=0,color='r')\n",
    "    G.add_path([85,89,90,87],beta=0,myosin=0,color='r')\n",
    "    G.add_path([90,93,94,92,88],beta=0,myosin=0,color='r')\n",
    "\n",
    "\n",
    "    G.add_edges_from([(3,0),(3,1),(3,4),(3,7),(3,6),(3,2)],beta=10,myosin=1000)\n",
    "    G.add_edges_from([(8,14),(8,9),(8,5),(8,4),(8,7),(8,13)],beta=10,myosin=1000)\n",
    "    G.add_edges_from([(12,19),(12,13),(12,7),(12,6),(12,11),(12,18)],beta=10,myosin=1000)\n",
    "    G.add_edges_from([(15,22),(15,16),(15,10),(15,9),(15,14),(15,21)],beta=10,myosin=1000)\n",
    "    G.add_edges_from([(20,29),(20,21),(20,14),(20,13),(20,19),(20,28)],beta=10,myosin=1000)\n",
    "    G.add_edges_from([(27,36),(27,28),(27,19),(27,18),(27,26),(27,35)],beta=10,myosin=1000)\n",
    "    G.add_edges_from([(23,32),(23,24),(23,17),(23,16),(23,22),(23,31)],beta=10,myosin=1000)\n",
    "    G.add_edges_from([(30,39),(30,31),(30,22),(30,21),(30,29),(30,38)],beta=10,myosin=1000)\n",
    "    G.add_edges_from([(37,46),(37,38),(37,29),(37,28),(37,36),(37,45)],beta=10,myosin=1000)\n",
    "    G.add_edges_from([(44,53),(44,45),(44,36),(44,35),(44,43),(44,52)],beta=10,myosin=1000)\n",
    "    G.add_edges_from([(33,42),(33,34),(33,25),(33,24),(33,32),(33,41)],beta=10,myosin=1000)\n",
    "    G.add_edges_from([(40,49),(40,41),(40,32),(40,31),(40,39),(40,48)],beta=10,myosin=1000)\n",
    "    G.add_edges_from([(47,56),(47,48),(47,39),(47,38),(47,46),(47,55)],beta=10,myosin=1000)\n",
    "    G.add_edges_from([(54,63),(54,55),(54,46),(54,45),(54,53),(54,62)],beta=10,myosin=1000)\n",
    "    G.add_edges_from([(61,70),(61,62),(61,53),(61,52),(61,60),(61,69)],beta=10,myosin=1000)\n",
    "    G.add_edges_from([(50,59),(50,51),(50,42),(50,41),(50,49),(50,58)],beta=10,myosin=1000)\n",
    "    G.add_edges_from([(57,66),(57,58),(57,49),(57,48),(57,56),(57,65)],beta=10,myosin=1000)\n",
    "    G.add_edges_from([(64,73),(64,65),(64,56),(64,55),(64,63),(64,72)],beta=10,myosin=1000)\n",
    "    G.add_edges_from([(71,78),(71,72),(71,63),(71,62),(71,70),(71,77)],beta=10,myosin=1000)\n",
    "    G.add_edges_from([(67,76),(67,68),(67,59),(67,58),(67,66),(67,75)],beta=10,myosin=1000)\n",
    "    G.add_edges_from([(74,81),(74,75),(74,66),(74,65),(74,73),(74,80)],beta=10,myosin=1000)\n",
    "    G.add_edges_from([(79,85),(79,80),(79,73),(79,72),(79,78),(79,84)],beta=10,myosin=1000)\n",
    "    G.add_edges_from([(82,88),(82,83),(82,76),(82,75),(82,81),(82,87)],beta=10,myosin=1000)\n",
    "    G.add_edges_from([(86,90),(86,87),(86,81),(86,80),(86,85),(86,89)],beta=10,myosin=1000)\n",
    "    G.add_edges_from([(91,94),(91,92),(91,88),(91,87),(91,90),(91,93)],beta=10,myosin=1000)\n",
    "\n",
    "    nx.set_node_attributes(G, 'time_lag', 0)\n",
    "    \n",
    "    centers = [3,8,12,15,20,27,23,30,37,44,33,40,47,54,61,50,57,64,71,67,74,79,82,86,91]\n",
    "    \n",
    "    for j in centers:\n",
    "        G.node[j]['time_lag'] = np.random.randint(0,2000)\n",
    "    \n",
    "    return G"
   ]
  },
  {
   "cell_type": "code",
   "execution_count": 160,
   "metadata": {
    "collapsed": false
   },
   "outputs": [
    {
     "data": {
      "image/png": "[encoded data removed]",
      "text/plain": [
       "<matplotlib.figure.Figure at 0x7fadb12be358>"
      ]
     },
     "metadata": {},
     "output_type": "display_data"
    }
   ],
   "source": [
    "G = tissue()\n",
    "pos = nx.get_node_attributes(G,'pos')\n",
    "nx.draw(G,pos, with_labels=True,node_size=2)\n",
    "plt.axis(\"on\")\n",
    "plt.grid(\"on\")\n",
    "\n",
    "plt.show()"
   ]
  },
  {
   "cell_type": "code",
   "execution_count": 161,
   "metadata": {
    "collapsed": false
   },
   "outputs": [
    {
     "data": {
      "image/png": "[encoded data removed]",
      "text/plain": [
       "<matplotlib.figure.Figure at 0x7fadb1443940>"
      ]
     },
     "metadata": {},
     "output_type": "display_data"
    }
   ],
   "source": [
    "pos = nx.get_node_attributes(G,'pos')\n",
    "edges,colors = zip(*nx.get_edge_attributes(G,'color').items())\n",
    "nx.draw(G,pos, node_size = 1, edgelist=edges,edge_color=colors,width=1)\n",
    "plt.axis(\"on\")\n",
    "plt.grid(\"on\")\n",
    "\n",
    "plt.show()"
   ]
  },
  {
   "cell_type": "code",
   "execution_count": 162,
   "metadata": {
    "collapsed": true
   },
   "outputs": [],
   "source": [
    "node_dict = nx.get_node_attributes(G,'pos')"
   ]
  },
  {
   "cell_type": "code",
   "execution_count": 163,
   "metadata": {
    "collapsed": false
   },
   "outputs": [
    {
     "data": {
      "text/plain": [
       "7.6000000000000005"
      ]
     },
     "execution_count": 163,
     "metadata": {},
     "output_type": "execute_result"
    }
   ],
   "source": [
    "distance.euclidean(node_dict[0],node_dict[1])"
   ]
  },
  {
   "cell_type": "code",
   "execution_count": 164,
   "metadata": {
    "collapsed": false
   },
   "outputs": [
    {
     "data": {
      "text/plain": [
       "7.599999999999998"
      ]
     },
     "execution_count": 164,
     "metadata": {},
     "output_type": "execute_result"
    }
   ],
   "source": [
    "distance.euclidean(node_dict[0],node_dict[3])"
   ]
  },
  {
   "cell_type": "code",
   "execution_count": 165,
   "metadata": {
    "collapsed": false
   },
   "outputs": [
    {
     "data": {
      "text/plain": [
       "7.6000000000000005"
      ]
     },
     "execution_count": 165,
     "metadata": {},
     "output_type": "execute_result"
    }
   ],
   "source": [
    "distance.euclidean(node_dict[0],node_dict[2])"
   ]
  },
  {
   "cell_type": "code",
   "execution_count": 166,
   "metadata": {
    "collapsed": false
   },
   "outputs": [
    {
     "data": {
      "text/plain": [
       "7.599999999999999"
      ]
     },
     "execution_count": 166,
     "metadata": {},
     "output_type": "execute_result"
    }
   ],
   "source": [
    "distance.euclidean(node_dict[25],node_dict[33])"
   ]
  },
  {
   "cell_type": "code",
   "execution_count": 167,
   "metadata": {
    "collapsed": false
   },
   "outputs": [
    {
     "data": {
      "text/plain": [
       "7.599999999999994"
      ]
     },
     "execution_count": 167,
     "metadata": {},
     "output_type": "execute_result"
    }
   ],
   "source": [
    "distance.euclidean(node_dict[24],node_dict[33])"
   ]
  },
  {
   "cell_type": "code",
   "execution_count": 168,
   "metadata": {
    "collapsed": false
   },
   "outputs": [
    {
     "data": {
      "text/plain": [
       "7.599999999999999"
      ]
     },
     "execution_count": 168,
     "metadata": {},
     "output_type": "execute_result"
    }
   ],
   "source": [
    "distance.euclidean(node_dict[25],node_dict[24])"
   ]
  },
  {
   "cell_type": "code",
   "execution_count": 169,
   "metadata": {
    "collapsed": false
   },
   "outputs": [
    {
     "data": {
      "text/plain": [
       "25"
      ]
     },
     "execution_count": 169,
     "metadata": {},
     "output_type": "execute_result"
    }
   ],
   "source": [
    "nodes = nx.get_node_attributes(G,'pos')\n",
    "centers = [3,8,12,15,20,27,23,30,37,44,33,40,47,54,61,50,57,64,71,67,74,79,82,86,91]\n",
    "len(centers)"
   ]
  },
  {
   "cell_type": "code",
   "execution_count": 170,
   "metadata": {
    "collapsed": false
   },
   "outputs": [
    {
     "name": "stdout",
     "output_type": "stream",
     "text": [
      "[(18.999999999999996, 32.908965343808667), (22.799999999999997, 39.490758412570401), (22.799999999999997, 26.327172275046934), (30.399999999999999, 39.490758412570401), (30.399999999999999, 26.327172275046934), (34.199999999999996, 32.908965343808667)]\n"
     ]
    }
   ],
   "source": [
    "outer = []\n",
    "for neighbor in G.neighbors(3):\n",
    "    outer.append(nodes[neighbor])\n",
    "print(outer)    "
   ]
  },
  {
   "cell_type": "code",
   "execution_count": 196,
   "metadata": {
    "collapsed": false,
    "scrolled": true
   },
   "outputs": [
    {
     "name": "stdout",
     "output_type": "stream",
     "text": [
      "0.333333333333\n",
      "0.333333333333\n",
      "0.333333333333\n",
      "0.333333333333\n",
      "0.333333333333\n",
      "0.333333333333\n",
      "0.333333333333\n",
      "0.333333333333\n",
      "0.333333333333\n",
      "0.333333333333\n",
      "0.333333333333\n",
      "0.333333333333\n",
      "0.333333333333\n",
      "0.333333333333\n",
      "0.333333333333\n",
      "0.333333333333\n",
      "0.333333333333\n",
      "0.333333333333\n",
      "0.333333333333\n",
      "0.333333333333\n",
      "0.333333333333\n",
      "0.333333333333\n",
      "0.333333333333\n",
      "0.333333333333\n",
      "0.333333333333\n",
      "0.333333333333\n",
      "0.333333333333\n",
      "0.333333333333\n",
      "0.333333333333\n",
      "0.333333333333\n",
      "0.333333333333\n",
      "0.333333333333\n",
      "0.333333333333\n",
      "0.333333333333\n",
      "0.333333333333\n",
      "0.333333333333\n",
      "0.333333333333\n",
      "0.333333333333\n",
      "0.333333333333\n",
      "0.333333333333\n",
      "0.333333333333\n",
      "0.333333333333\n",
      "0.333333333333\n",
      "0.333333333333\n",
      "0.333333333333\n",
      "0.333333333333\n",
      "0.333333333333\n",
      "0.333333333333\n",
      "0.333333333333\n",
      "0.333333333333\n",
      "0.333333333333\n",
      "0.333333333333\n",
      "0.333333333333\n",
      "0.333333333333\n",
      "0.333333333333\n",
      "0.333333333333\n",
      "0.333333333333\n",
      "0.333333333333\n",
      "0.333333333333\n",
      "0.333333333333\n",
      "0.333333333333\n",
      "0.333333333333\n",
      "0.333333333333\n",
      "0.333333333333\n",
      "0.333333333333\n",
      "0.333333333333\n",
      "0.333333333333\n",
      "0.333333333333\n",
      "0.333333333333\n",
      "0.333333333333\n",
      "0.333333333333\n",
      "0.333333333333\n",
      "0.333333333333\n",
      "0.333333333333\n",
      "0.333333333333\n",
      "0.333333333333\n",
      "0.333333333333\n",
      "0.333333333333\n",
      "0.333333333333\n",
      "0.333333333333\n",
      "0.333333333333\n",
      "0.333333333333\n",
      "0.333333333333\n",
      "0.333333333333\n",
      "0.333333333333\n",
      "0.333333333333\n",
      "0.333333333333\n",
      "0.333333333333\n",
      "0.333333333333\n",
      "0.333333333333\n",
      "0.333333333333\n",
      "0.333333333333\n",
      "0.333333333333\n",
      "0.333333333333\n",
      "0.333333333333\n",
      "0.333333333333\n",
      "0.333333333333\n",
      "0.333333333333\n",
      "0.333333333333\n",
      "0.333333333333\n",
      "0.333333333333\n",
      "0.333333333333\n",
      "0.333333333333\n",
      "0.333333333333\n",
      "0.333333333333\n",
      "0.333333333333\n",
      "0.333333333333\n",
      "0.333333333333\n",
      "0.333333333333\n",
      "0.333333333333\n",
      "0.333333333333\n",
      "0.333333333333\n",
      "0.333333333333\n",
      "0.333333333333\n",
      "0.333333333333\n",
      "0.333333333333\n",
      "0.333333333333\n",
      "0.333333333333\n",
      "0.333333333333\n",
      "0.333333333333\n",
      "0.333333333333\n",
      "0.333333333333\n",
      "0.333333333333\n",
      "0.333333333333\n",
      "0.333333333333\n",
      "0.333333333333\n",
      "0.333333333333\n",
      "0.333333333333\n",
      "0.333333333333\n",
      "0.333333333333\n",
      "0.333333333333\n",
      "0.333333333333\n",
      "0.333333333333\n",
      "0.333333333333\n",
      "0.333333333333\n",
      "0.333333333333\n",
      "0.333333333333\n",
      "0.333333333333\n",
      "0.333333333333\n",
      "0.333333333333\n",
      "0.333333333333\n",
      "0.333333333333\n",
      "0.333333333333\n",
      "0.333333333333\n",
      "0.333333333333\n",
      "0.333333333333\n",
      "0.333333333333\n",
      "0.333333333333\n",
      "0.333333333333\n",
      "0.333333333333\n"
     ]
    }
   ],
   "source": [
    "for n in centers:\n",
    "    corners = [neighbor for neighbor in G.neighbors(n)]\n",
    "    corn_sort = [(corners[0],0)]\n",
    "    u = unit_vector(nodes[n],nodes[corners[0]])\n",
    "    for i in range(1,len(corners)):\n",
    "        v = unit_vector(nodes[n],nodes[corners[i]])\n",
    "        dot = np.dot(u,v)\n",
    "        det = np.linalg.det([u,v])\n",
    "        angle = np.arctan2(det,dot)\n",
    "        corn_sort.append((corners[i],angle))\n",
    "    corn_sort = sorted(corn_sort, key=lambda tup: tup[1])\n",
    "    corn2 = [nodes[entry[0]] for entry in corn_sort]\n",
    "#     print(n,CellArea(corn2))\n",
    "\n",
    "    for j in range(0,len(corn2)):\n",
    "        inner = [corn2[np.mod(j,6)],corn2[np.mod(j+1,6)],nodes[n],corn2[np.mod(j-1,6)]]\n",
    "        \n",
    "        print(CellArea(inner)/CellArea(corn2))\n",
    "        "
   ]
  },
  {
   "cell_type": "code",
   "execution_count": 172,
   "metadata": {
    "collapsed": false
   },
   "outputs": [
    {
     "data": {
      "text/plain": [
       "[(121.59999999999999, 39.490758412570401),\n",
       " (113.99999999999999, 39.490758412570401),\n",
       " (110.19999999999999, 32.908965343808667),\n",
       " (114.0, 26.327172275046934),\n",
       " (121.59999999999999, 26.327172275046934),\n",
       " (125.39999999999999, 32.908965343808667)]"
      ]
     },
     "execution_count": 172,
     "metadata": {},
     "output_type": "execute_result"
    }
   ],
   "source": [
    "corn2"
   ]
  },
  {
   "cell_type": "code",
   "execution_count": 173,
   "metadata": {
    "collapsed": false
   },
   "outputs": [
    {
     "data": {
      "text/plain": [
       "[(92, -2.0943951023931953),\n",
       " (88, -1.0471975511965965),\n",
       " (87, 0),\n",
       " (90, 1.0471975511965981),\n",
       " (93, 2.0943951023931953),\n",
       " (94, 3.1415926535897931)]"
      ]
     },
     "execution_count": 173,
     "metadata": {},
     "output_type": "execute_result"
    }
   ],
   "source": [
    "corn_sort"
   ]
  },
  {
   "cell_type": "code",
   "execution_count": 174,
   "metadata": {
    "collapsed": false
   },
   "outputs": [
    {
     "name": "stdout",
     "output_type": "stream",
     "text": [
      "[92, 88, 87, 90, 93, 94]\n"
     ]
    }
   ],
   "source": [
    "corn3 = [j[0] for j in corn_sort]\n",
    "print(corn3)"
   ]
  },
  {
   "cell_type": "code",
   "execution_count": 190,
   "metadata": {
    "collapsed": false
   },
   "outputs": [
    {
     "name": "stdout",
     "output_type": "stream",
     "text": [
      "88 94 3\n",
      "87 92 3\n",
      "90 88 3\n",
      "93 87 3\n",
      "94 90 3\n",
      "92 93 3\n",
      "88 94 8\n",
      "87 92 8\n",
      "90 88 8\n",
      "93 87 8\n",
      "94 90 8\n",
      "92 93 8\n",
      "88 94 12\n",
      "87 92 12\n",
      "90 88 12\n",
      "93 87 12\n",
      "94 90 12\n",
      "92 93 12\n",
      "88 94 15\n",
      "87 92 15\n",
      "90 88 15\n",
      "93 87 15\n",
      "94 90 15\n",
      "92 93 15\n",
      "88 94 20\n",
      "87 92 20\n",
      "90 88 20\n",
      "93 87 20\n",
      "94 90 20\n",
      "92 93 20\n",
      "88 94 27\n",
      "87 92 27\n",
      "90 88 27\n",
      "93 87 27\n",
      "94 90 27\n",
      "92 93 27\n",
      "88 94 23\n",
      "87 92 23\n",
      "90 88 23\n",
      "93 87 23\n",
      "94 90 23\n",
      "92 93 23\n",
      "88 94 30\n",
      "87 92 30\n",
      "90 88 30\n",
      "93 87 30\n",
      "94 90 30\n",
      "92 93 30\n",
      "88 94 37\n",
      "87 92 37\n",
      "90 88 37\n",
      "93 87 37\n",
      "94 90 37\n",
      "92 93 37\n",
      "88 94 44\n",
      "87 92 44\n",
      "90 88 44\n",
      "93 87 44\n",
      "94 90 44\n",
      "92 93 44\n",
      "88 94 33\n",
      "87 92 33\n",
      "90 88 33\n",
      "93 87 33\n",
      "94 90 33\n",
      "92 93 33\n",
      "88 94 40\n",
      "87 92 40\n",
      "90 88 40\n",
      "93 87 40\n",
      "94 90 40\n",
      "92 93 40\n",
      "88 94 47\n",
      "87 92 47\n",
      "90 88 47\n",
      "93 87 47\n",
      "94 90 47\n",
      "92 93 47\n",
      "88 94 54\n",
      "87 92 54\n",
      "90 88 54\n",
      "93 87 54\n",
      "94 90 54\n",
      "92 93 54\n",
      "88 94 61\n",
      "87 92 61\n",
      "90 88 61\n",
      "93 87 61\n",
      "94 90 61\n",
      "92 93 61\n",
      "88 94 50\n",
      "87 92 50\n",
      "90 88 50\n",
      "93 87 50\n",
      "94 90 50\n",
      "92 93 50\n",
      "88 94 57\n",
      "87 92 57\n",
      "90 88 57\n",
      "93 87 57\n",
      "94 90 57\n",
      "92 93 57\n",
      "88 94 64\n",
      "87 92 64\n",
      "90 88 64\n",
      "93 87 64\n",
      "94 90 64\n",
      "92 93 64\n",
      "88 94 71\n",
      "87 92 71\n",
      "90 88 71\n",
      "93 87 71\n",
      "94 90 71\n",
      "92 93 71\n",
      "88 94 67\n",
      "87 92 67\n",
      "90 88 67\n",
      "93 87 67\n",
      "94 90 67\n",
      "92 93 67\n",
      "88 94 74\n",
      "87 92 74\n",
      "90 88 74\n",
      "93 87 74\n",
      "94 90 74\n",
      "92 93 74\n",
      "88 94 79\n",
      "87 92 79\n",
      "90 88 79\n",
      "93 87 79\n",
      "94 90 79\n",
      "92 93 79\n",
      "88 94 82\n",
      "87 92 82\n",
      "90 88 82\n",
      "93 87 82\n",
      "94 90 82\n",
      "92 93 82\n",
      "88 94 86\n",
      "87 92 86\n",
      "90 88 86\n",
      "93 87 86\n",
      "94 90 86\n",
      "92 93 86\n",
      "88 94 91\n",
      "87 92 91\n",
      "90 88 91\n",
      "93 87 91\n",
      "94 90 91\n",
      "92 93 91\n"
     ]
    }
   ],
   "source": [
    "for n in centers:\n",
    "    for j in range(0,len(corn2)):\n",
    "        inner = [corn2[np.mod(j+1,6)],corn2[np.mod(j-1,6)],nodes[n]]\n",
    "        print(corn_sort[np.mod(j+1,6)][0],corn_sort[np.mod(j-1,6)][0],n)\n",
    "#         print(CellArea(inner))"
   ]
  },
  {
   "cell_type": "code",
   "execution_count": 176,
   "metadata": {
    "collapsed": false
   },
   "outputs": [
    {
     "data": {
      "text/plain": [
       "1000"
      ]
     },
     "execution_count": 176,
     "metadata": {},
     "output_type": "execute_result"
    }
   ],
   "source": [
    "G[n][corn_sort[j][0]]['myosin']"
   ]
  },
  {
   "cell_type": "code",
   "execution_count": 177,
   "metadata": {
    "collapsed": true
   },
   "outputs": [],
   "source": [
    "centers = [3,8,12,15,20,27,23,30,37,44,33,40,47,54,61,50,57,64,71,67,74,79,82,86,91]"
   ]
  },
  {
   "cell_type": "code",
   "execution_count": 178,
   "metadata": {
    "collapsed": false
   },
   "outputs": [
    {
     "data": {
      "text/plain": [
       "1785"
      ]
     },
     "execution_count": 178,
     "metadata": {},
     "output_type": "execute_result"
    }
   ],
   "source": [
    "G.node[3]['time_lag']"
   ]
  },
  {
   "cell_type": "code",
   "execution_count": 179,
   "metadata": {
    "collapsed": false
   },
   "outputs": [
    {
     "data": {
      "text/plain": [
       "1000"
      ]
     },
     "execution_count": 179,
     "metadata": {},
     "output_type": "execute_result"
    }
   ],
   "source": [
    "G.node[37]['time_lag']"
   ]
  },
  {
   "cell_type": "code",
   "execution_count": 152,
   "metadata": {
    "collapsed": false
   },
   "outputs": [
    {
     "data": {
      "text/plain": [
       "1065"
      ]
     },
     "execution_count": 152,
     "metadata": {},
     "output_type": "execute_result"
    }
   ],
   "source": [
    "np.random.randint(0,2000)"
   ]
  },
  {
   "cell_type": "code",
   "execution_count": null,
   "metadata": {
    "collapsed": true
   },
   "outputs": [],
   "source": []
  }
 ],
 "metadata": {
  "kernelspec": {
   "display_name": "Python 3",
   "language": "python",
   "name": "python3"
  },
  "language_info": {
   "codemirror_mode": {
    "name": "ipython",
    "version": 3
   },
   "file_extension": ".py",
   "mimetype": "text/x-python",
   "name": "python",
   "nbconvert_exporter": "python",
   "pygments_lexer": "ipython3",
   "version": "3.5.1"
  }
 },
 "nbformat": 4,
 "nbformat_minor": 0
}
