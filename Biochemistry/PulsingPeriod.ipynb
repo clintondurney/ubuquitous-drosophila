{
 "cells": [
  {
   "cell_type": "markdown",
   "metadata": {},
   "source": [
    "# Oscillations for different ICs and Parameters"
   ]
  },
  {
   "cell_type": "code",
   "execution_count": 1,
   "metadata": {
    "collapsed": false
   },
   "outputs": [
    {
     "ename": "ImportError",
     "evalue": "No module named '_dde23'",
     "output_type": "error",
     "traceback": [
      "\u001b[1;31m---------------------------------------------------------------------------\u001b[0m",
      "\u001b[1;31mImportError\u001b[0m                               Traceback (most recent call last)",
      "\u001b[1;32m<ipython-input-1-cf13576249b7>\u001b[0m in \u001b[0;36m<module>\u001b[1;34m()\u001b[0m\n\u001b[0;32m      5\u001b[0m \u001b[1;32mfrom\u001b[0m \u001b[0m__future__\u001b[0m \u001b[1;32mimport\u001b[0m \u001b[0mabsolute_import\u001b[0m\u001b[1;33m\u001b[0m\u001b[0m\n\u001b[0;32m      6\u001b[0m \u001b[1;32mimport\u001b[0m \u001b[0mpylab\u001b[0m \u001b[1;32mas\u001b[0m \u001b[0mpl\u001b[0m\u001b[1;33m\u001b[0m\u001b[0m\n\u001b[1;32m----> 7\u001b[1;33m \u001b[1;32mfrom\u001b[0m \u001b[0mpydelay\u001b[0m \u001b[1;32mimport\u001b[0m \u001b[0mdde23\u001b[0m\u001b[1;33m\u001b[0m\u001b[0m\n\u001b[0m\u001b[0;32m      8\u001b[0m \u001b[1;32mimport\u001b[0m \u001b[0mcsv\u001b[0m\u001b[1;33m\u001b[0m\u001b[0m\n\u001b[0;32m      9\u001b[0m \u001b[1;32mimport\u001b[0m \u001b[0mjson\u001b[0m\u001b[1;33m\u001b[0m\u001b[0m\n",
      "\u001b[1;32m/home/cdurney/anaconda3/lib/python3.5/site-packages/pydelay/__init__.py\u001b[0m in \u001b[0;36m<module>\u001b[1;34m()\u001b[0m\n\u001b[0;32m      7\u001b[0m \u001b[0mLast\u001b[0m \u001b[0mupdate\u001b[0m\u001b[1;33m:\u001b[0m \u001b[1;36m23.10\u001b[0m\u001b[1;36m.2009\u001b[0m\u001b[1;33m\u001b[0m\u001b[0m\n\u001b[0;32m      8\u001b[0m \"\"\"\n\u001b[1;32m----> 9\u001b[1;33m \u001b[1;32mfrom\u001b[0m \u001b[0m_dde23\u001b[0m \u001b[1;32mimport\u001b[0m \u001b[0mdde23\u001b[0m\u001b[1;33m\u001b[0m\u001b[0m\n\u001b[0m\u001b[0;32m     10\u001b[0m \u001b[1;31m#from constantStepper import dde3\u001b[0m\u001b[1;33m\u001b[0m\u001b[1;33m\u001b[0m\u001b[0m\n\u001b[0;32m     11\u001b[0m \u001b[0m__all__\u001b[0m \u001b[1;33m=\u001b[0m \u001b[1;33m[\u001b[0m\u001b[1;34m'dde23'\u001b[0m\u001b[1;33m,\u001b[0m \u001b[1;34m'gen_disconts'\u001b[0m\u001b[1;33m]\u001b[0m\u001b[1;33m\u001b[0m\u001b[0m\n",
      "\u001b[1;31mImportError\u001b[0m: No module named '_dde23'"
     ]
    }
   ],
   "source": [
    "import pandas as pd\n",
    "import matplotlib.pyplot as plt\n",
    "import numpy as np\n",
    "\n",
    "from __future__ import absolute_import\n",
    "import pylab as pl\n",
    "from pydelay import dde23\n",
    "import csv\n",
    "import json\n",
    "\n",
    "%matplotlib inline\n",
    "\n",
    "# data = pd.read_csv('output.csv',delimiter=',')"
   ]
  },
  {
   "cell_type": "code",
   "execution_count": 2,
   "metadata": {
    "collapsed": false
   },
   "outputs": [],
   "source": [
    "def dde_main(k1i,k2i,k3i,k4i,qRi,tau_1i,tau_2i,Ai,Bi):\n",
    "    # the model equations \n",
    "    eqns = { \n",
    "        'Ac' : '-k1*Rm*Ac',\n",
    "        'Am' : 'k1*Rm(t-tau1)*Ac(t-tau1) - k2*Am*Rm + k3*AR - k2*Am*Bm + k3*AB',\n",
    "        'Bc' : '-k4*Am*Bc',\n",
    "        'Bm' : 'k4*Am(t-tau2)*Bc(t-tau2) - k2*Am*Bm + k3*AB',\n",
    "        'Rm' : 'qR - k2*Am*Rm + k3*AR',\n",
    "        'AB' : 'k2*Am*Bm - k3*AB',\n",
    "        'AR' : 'k2*Am*Rm - k3*AR'\n",
    "        }\n",
    "\n",
    "    # define parameters\n",
    "    params = {\n",
    "        'k1' : k1i,           \n",
    "        'k2' : k2i,\n",
    "        'k3' : k3i,\n",
    "        'k4' : k4i,\n",
    "        'qR' : qRi,\n",
    "        'tau1' : tau_1i,\n",
    "        'tau2' : tau_2i\n",
    "        }\n",
    "\n",
    "    # initial conditions\n",
    "    init_cond = {\n",
    "        'Ac' : Ai,\n",
    "        'Am' : 0,\n",
    "        'Bc' : Bi,\n",
    "        'Bm' : 0,\n",
    "        'Rm' : 0.,\n",
    "        'AB' : 0,\n",
    "        'AR' : 0\n",
    "        }\n",
    "\n",
    "    # intialize the solver\n",
    "    dde = dde23(eqns=eqns, params=params)\n",
    "\n",
    "    # set the simulation parameters\n",
    "    # (solve from t=0 to tfinal and limit the maximum step size to 1.0) \n",
    "    dde.set_sim_params(tfinal=10000, dtmax = 1.0 )\n",
    "\n",
    "\n",
    "    # set the history of the proteins\n",
    "    histfunc = {\n",
    "        'Ac' : lambda t: init_cond['Ac'], \n",
    "        'Am' : lambda t: init_cond['Am'],\n",
    "        'Bc' : lambda t: init_cond['Bc'],\n",
    "        'Bm' : lambda t: init_cond['Bm'],\n",
    "        'Rm' : lambda t: init_cond['Rm'],\n",
    "        'AB' : lambda t: init_cond['AB'],\n",
    "        'AR' : lambda t: init_cond['AR']\n",
    "            }\n",
    "    dde.hist_from_funcs(histfunc, 500)\n",
    "\n",
    "    # run the simulator\n",
    "    dde.run()\n",
    "\n",
    "    sol1 = dde.sample(0,10000,0.1)\n",
    "\n",
    "    t = sol1['t']\n",
    "    Ac = sol1['Ac']\n",
    "    Am = sol1['Am']\n",
    "    Bc = sol1['Bc']\n",
    "    Bm = sol1['Bm']\n",
    "    Rm = sol1['Rm']\n",
    "    AB = sol1['AB']\n",
    "    AR = sol1['AR']\n",
    "\n",
    "    # print the IC's and constants\n",
    "    print(\"The parameters used were:\")\n",
    "    print(json.dumps(params, indent = 1, sort_keys=True))\n",
    "\n",
    "    print(\"The initial conditions used were: \")\n",
    "    print(json.dumps(init_cond, indent = 1, sort_keys=True))\n",
    "\n",
    "    return(t,Am,Bm,Rm,Ac)\n",
    "\n",
    "def Rmslope(Rm):\n",
    "    Rm_slope = []\n",
    "    for i in range(0,len(t)-1):\n",
    "        slope = (Rm[i+1] - Rm[i])/(t[i+1]-t[i])\n",
    "        Rm_slope.append(slope)\n",
    "    Rm_slope.append(Rm_slope[-1])\n",
    "    \n",
    "    return(Rm_slope)\n",
    "\n",
    "# To Do:  Only keep peaks that are greater than a threshold concentration\n",
    "def Rm_max(Rm_slope):\n",
    "    max_list = []\n",
    "    time_max = []\n",
    "    for i in range(0,len(Rm_slope)-1):\n",
    "        if Rm_slope[i]>0 and Rm_slope[i+1]<0 and Rm[i]>0.005:\n",
    "            max_list.append(Rm[i+1])\n",
    "            time_max.append(t[i+1])\n",
    "    \n",
    "    return(time_max, max_list)"
   ]
  },
  {
   "cell_type": "markdown",
   "metadata": {},
   "source": [
    "### We begin with the ICs and parameters that were used in the update DC_Mar21.pdf"
   ]
  },
  {
   "cell_type": "code",
   "execution_count": null,
   "metadata": {
    "collapsed": false
   },
   "outputs": [],
   "source": [
    "(t,Am,Bm,Rm,Ac) = dde_main(0.001,0.75,0.0003,0.001,0.035,48.0,59.3,400,100)\n",
    "(t_max, R_max) = Rm_max(Rmslope(Rm))\n",
    "\n",
    "plt.plot(t,Rm,label=\"Rm\")\n",
    "plt.plot(t_max, R_max,\"o\", label=\"max\")\n",
    "plt.ylim([0,4])\n",
    "plt.xlabel(\"Time (s)\")\n",
    "plt.ylabel('Concentration ($\\mu M$)')\n",
    "plt.legend()\n",
    "plt.show()\n",
    "\n",
    "plt.plot(t,Ac,label=\"Ac\")\n",
    "plt.xlabel(\"Time (s)\")\n",
    "plt.ylabel('Concentration ($\\mu M$)')\n",
    "plt.legend()\n",
    "plt.show()\n",
    "\n",
    "plt.hist(np.diff(t_max))\n",
    "plt.show()\n",
    "print 'The mean period of oscillations is', np.mean(np.diff(t_max))"
   ]
  },
  {
   "cell_type": "markdown",
   "metadata": {},
   "source": [
    "### We now reduce the ICs to $A_c=4.0 \\mu M$ and $B_c=1.0 \\mu M$\n",
    "\n",
    "Eventually I was able to tune the parameters to get oscillations."
   ]
  },
  {
   "cell_type": "code",
   "execution_count": null,
   "metadata": {
    "collapsed": false
   },
   "outputs": [],
   "source": [
    "(t,Am,Bm,Rm,Ac) = dde_main(0.1,100.75,0.0001,0.1,0.0004,48.,59.3,4.,1.)\n",
    "(t_max, R_max) = Rm_max(Rmslope(Rm))\n",
    "\n",
    "plt.plot(t,Rm,label=\"Rm\")\n",
    "plt.plot(t_max, R_max,\"o\", label=\"max\")\n",
    "plt.ylim([0,0.1])\n",
    "plt.xlabel(\"Time (s)\")\n",
    "plt.ylabel('Concentration ($\\mu M$)')\n",
    "plt.legend()\n",
    "plt.show()\n",
    "\n",
    "plt.plot(t,Ac,label=\"Ac\")\n",
    "plt.ylim([0,4])\n",
    "plt.xlabel(\"Time (s)\")\n",
    "plt.ylabel('Concentration ($\\mu M$)')\n",
    "plt.legend()\n",
    "plt.show()\n",
    "\n",
    "plt.hist(np.diff(t_max))\n",
    "print 'The mean period of oscillations is', np.mean(np.diff(t_max))"
   ]
  },
  {
   "cell_type": "markdown",
   "metadata": {},
   "source": [
    "However, we notice that mean period is a bit long.  Therefore, through $\\tau_1$ and $\\tau_2$ we are able decrease the mean period."
   ]
  },
  {
   "cell_type": "code",
   "execution_count": null,
   "metadata": {
    "collapsed": false
   },
   "outputs": [],
   "source": [
    "(t,Am,Bm,Rm,Ac) = dde_main(0.1,100.75,0.0001,0.1,0.0004,44.,55.,4.,1.)\n",
    "(t_max, R_max) = Rm_max(Rmslope(Rm))\n",
    "\n",
    "plt.plot(t,Rm,label=\"Rm\")\n",
    "plt.plot(t_max, R_max,\"o\", label=\"max\")\n",
    "plt.ylim([0,0.1])\n",
    "plt.xlabel(\"Time (s)\")\n",
    "plt.ylabel('Concentration ($\\mu M$)')\n",
    "plt.legend()\n",
    "plt.show()\n",
    "\n",
    "# plt.plot(t,Ac,label=\"Ac\")\n",
    "# plt.ylim([0,4])\n",
    "# plt.xlabel(\"Time (s)\")\n",
    "# plt.ylabel('Concentration ($\\mu M$)')\n",
    "# plt.legend()\n",
    "# plt.show()\n",
    "\n",
    "plt.hist(np.diff(t_max))\n",
    "np.mean(np.diff(t_max))"
   ]
  },
  {
   "cell_type": "markdown",
   "metadata": {},
   "source": [
    "We see that we can get oscillations for lower initial conditions.  However, it comes at a price.  Namely, $k_2$ must now be very, very large.  A phenomenon that I am having trouble to justify.  For the larger ICs, it was still $10^2$ - $10^3$ larger than $k_1$ and $k_3$ which is the same case here.  However, it poses a problem in justifying this rate.\n",
    "\n",
    "### -----------------------------------------------------------------\n",
    "Using this, we see if we can push the ICs even lower.  Going another order of magnitude lower, and changing the kinetic rates accordingly:\n",
    "* k1, k3, qR decrease by an order of magnitude\n",
    "* k2 increases by an order of magnitude\n",
    "* the rest remain the same\n",
    "\n",
    "We see that we indeed do continue to get oscillations.  We point out that we now get Reg concentrations of $0.001 \\mu M = 1 nM$ which is below the characteristic concentration of a signaling protein."
   ]
  },
  {
   "cell_type": "code",
   "execution_count": null,
   "metadata": {
    "collapsed": false
   },
   "outputs": [],
   "source": [
    "(t,Am,Bm,Rm,Ac) = dde_main(1.,1000.75,0.0001,1.,0.00004,44.,55.,.4,.1)\n",
    "(t_max, R_max) = Rm_max(Rmslope(Rm))\n",
    "\n",
    "plt.plot(t,Rm,label=\"Rm\")\n",
    "#plt.plot(t_max, R_max,\"o\", label=\"max\")\n",
    "plt.ylim([0,0.02])\n",
    "plt.xlabel(\"Time (s)\")\n",
    "plt.ylabel('Concentration ($\\mu M$)')\n",
    "plt.legend()\n",
    "plt.show()\n",
    "\n",
    "# plt.plot(t,Ac,label=\"Ac\")\n",
    "# plt.ylim([0,4])\n",
    "# plt.xlabel(\"Time (s)\")\n",
    "# plt.ylabel('Concentration ($\\mu M$)')\n",
    "# plt.legend()\n",
    "# plt.show()\n",
    "\n",
    "# plt.hist(np.diff(t_max))\n",
    "# np.mean(np.diff(t_max))"
   ]
  },
  {
   "cell_type": "markdown",
   "metadata": {},
   "source": [
    "### Now I will carry out the idea of halving the rate constants.  \n",
    "\n",
    "We will begin with showing the same plot as earlier.  We are taking the IC of $A_c=4.0 \\mu M$ and $B_c=1.0 \\mu M$\n"
   ]
  },
  {
   "cell_type": "code",
   "execution_count": null,
   "metadata": {
    "collapsed": false
   },
   "outputs": [],
   "source": [
    "(t,Am,Bm,Rm,Ac) = dde_main(0.1,100.75,0.0001,0.1,0.0004,48.,59.3,4.,1.)\n",
    "(t_max, R_max) = Rm_max(Rmslope(Rm))\n",
    "\n",
    "plt.plot(t,Rm,label=\"Rm\")\n",
    "plt.plot(t_max, R_max,\"o\", label=\"max\")\n",
    "plt.ylim([0,0.1])\n",
    "plt.xlabel(\"Time (s)\")\n",
    "plt.ylabel('Concentration ($\\mu M$)')\n",
    "plt.legend()\n",
    "plt.show()\n",
    "\n",
    "plt.plot(t,Ac,label=\"Ac\")\n",
    "plt.ylim([0,4])\n",
    "plt.xlabel(\"Time (s)\")\n",
    "plt.ylabel('Concentration ($\\mu M$)')\n",
    "plt.legend()\n",
    "plt.show()\n",
    "\n",
    "plt.hist(np.diff(t_max))\n",
    "print 'The mean period of oscillations is', np.mean(np.diff(t_max))"
   ]
  },
  {
   "cell_type": "markdown",
   "metadata": {},
   "source": [
    "We now halve the rate constants and plot for twice as long."
   ]
  },
  {
   "cell_type": "code",
   "execution_count": null,
   "metadata": {
    "collapsed": false
   },
   "outputs": [],
   "source": [
    "(t,Am,Bm,Rm,Ac) = dde_main(0.1/2.,100.75/2.,0.0001/2.,0.1/2.,0.0004/2.,48.,59.3,4.,1.)\n",
    "(t_max, R_max) = Rm_max(Rmslope(Rm))\n",
    "\n",
    "plt.plot(t,Rm,label=\"Rm\")\n",
    "plt.plot(t_max, R_max,\"o\", label=\"max\")\n",
    "plt.ylim([0,0.1])\n",
    "plt.xlabel(\"Time (s)\")\n",
    "plt.ylabel('Concentration ($\\mu M$)')\n",
    "plt.legend()\n",
    "plt.show()\n",
    "\n",
    "plt.plot(t,Ac,label=\"Ac\")\n",
    "plt.ylim([0,4])\n",
    "plt.xlabel(\"Time (s)\")\n",
    "plt.ylabel('Concentration ($\\mu M$)')\n",
    "plt.legend()\n",
    "plt.show()\n",
    "\n",
    "plt.hist(np.diff(t_max))\n",
    "print 'The mean period of oscillations is', np.mean(np.diff(t_max))"
   ]
  },
  {
   "cell_type": "markdown",
   "metadata": {},
   "source": [
    "Now with halved rate constants, we halve the ICs too."
   ]
  },
  {
   "cell_type": "code",
   "execution_count": null,
   "metadata": {
    "collapsed": false
   },
   "outputs": [],
   "source": [
    "(t,Am,Bm,Rm,Ac) = dde_main(0.1/2.,100.75/2.,0.0001/2.,0.1/2.,0.0004/2.,48.,59.3,2.,.5)\n",
    "(t_max, R_max) = Rm_max(Rmslope(Rm))\n",
    "\n",
    "plt.plot(t,Rm,label=\"Rm\")\n",
    "plt.plot(t_max, R_max,\"o\", label=\"max\")\n",
    "plt.ylim([0,0.1])\n",
    "plt.xlabel(\"Time (s)\")\n",
    "plt.ylabel('Concentration ($\\mu M$)')\n",
    "plt.legend()\n",
    "plt.show()\n",
    "\n",
    "plt.plot(t,Ac,label=\"Ac\")\n",
    "plt.ylim([0,4])\n",
    "plt.xlabel(\"Time (s)\")\n",
    "plt.ylabel('Concentration ($\\mu M$)')\n",
    "plt.legend()\n",
    "plt.show()\n",
    "\n",
    "plt.hist(np.diff(t_max))\n",
    "print 'The mean period of oscillations is', np.mean(np.diff(t_max))"
   ]
  },
  {
   "cell_type": "markdown",
   "metadata": {},
   "source": [
    "Conclusion:  You can halve the rate constants so that oscillations occur for longer, but only need marginal adjustments to $\\tau_1$ and $\\tau_2$ to obtain the correct statistics for the periods."
   ]
  },
  {
   "cell_type": "code",
   "execution_count": null,
   "metadata": {
    "collapsed": false
   },
   "outputs": [],
   "source": [
    "(t,Am,Bm,Rm,Ac) = dde_main(0.1,100.75,0.0001,0.1,0.0004,44.,55.,4.,1.)\n",
    "(t_max, R_max) = Rm_max(Rmslope(Rm))\n",
    "\n",
    "# plt.plot(t,Rm,label=\"Rm\")\n",
    "# plt.plot(t_max, R_max,\"o\", label=\"max\")\n",
    "# plt.ylim([0,0.1])\n",
    "# plt.xlabel(\"Time (s)\")\n",
    "# plt.ylabel('Concentration ($\\mu M$)')\n",
    "# plt.legend()\n",
    "# plt.show()\n",
    "\n",
    "plt.plot(t,Am,label=\"Am\")\n",
    "plt.ylim([0,0.1])\n",
    "plt.xlabel(\"Time (s)\")\n",
    "plt.ylabel('Concentration ($\\mu M$)')\n",
    "plt.legend()\n",
    "plt.show()\n",
    "\n",
    "# plt.hist(np.diff(t_max))\n",
    "# np.mean(np.diff(t_max))"
   ]
  },
  {
   "cell_type": "code",
   "execution_count": null,
   "metadata": {
    "collapsed": false
   },
   "outputs": [],
   "source": [
    "plt.title(\"Medial Reg, aPKC, Baz\")\n",
    "pl.xlim(t[20000],t[30000])\n",
    "pl.ylim([0,0.1])\n",
    "plt.plot(t, Rm/np.amax(Rm),'r', label = \"$Reg_m$\")\n",
    "plt.plot(t,Am/np.amax(Am), 'g', label = \"$aPKC_m$\")\n",
    "plt.plot(t,Bm/np.amax(Bm), 'b', label = \"$Baz_m$\")\n",
    "plt.ylabel(\"Normalized Concentration\")\n",
    "plt.xlabel(\"time (s)\")\n",
    "pl.legend()"
   ]
  },
  {
   "cell_type": "code",
   "execution_count": null,
   "metadata": {
    "collapsed": false
   },
   "outputs": [],
   "source": [
    "len(t)"
   ]
  },
  {
   "cell_type": "code",
   "execution_count": null,
   "metadata": {
    "collapsed": false
   },
   "outputs": [],
   "source": [
    "plt.title(\"Medial Reg, aPKC, Baz\")\n",
    "pl.xlim(t[20000],t[30000])\n",
    "pl.ylim([0,0.25])\n",
    "plt.plot(t, Rm/np.amax(Rm),'r', label = \"$Reg_m$\")\n",
    "plt.plot(t,Am/np.amax(Am), 'g', label = \"$aPKC_m$\")\n",
    "plt.plot(t,Bm/np.amax(Bm), 'b', label = \"$Baz_m$\")\n",
    "plt.ylabel(\"Normalized Concentration\")\n",
    "plt.xlabel(\"time (s)\")\n",
    "pl.legend()"
   ]
  },
  {
   "cell_type": "code",
   "execution_count": null,
   "metadata": {
    "collapsed": false
   },
   "outputs": [],
   "source": [
    "plt.title(\"Medial Reg, aPKC, Baz\")\n",
    "pl.xlim(t[0],t[80000])\n",
    "pl.ylim([0,0.25])\n",
    "plt.plot(t, Rm/np.amax(Rm),'r', label = \"$Reg_m$\")\n",
    "plt.plot(t,Am/np.amax(Am), 'g', label = \"$aPKC_m$\")\n",
    "plt.plot(t,Bm/np.amax(Bm), 'b', label = \"$Baz_m$\")\n",
    "plt.ylabel(\"Normalized Concentration\")\n",
    "plt.xlabel(\"time (s)\")\n",
    "pl.legend()"
   ]
  },
  {
   "cell_type": "code",
   "execution_count": null,
   "metadata": {
    "collapsed": true
   },
   "outputs": [],
   "source": []
  }
 ],
 "metadata": {
  "kernelspec": {
   "display_name": "Python 3",
   "language": "python",
   "name": "python3"
  },
  "language_info": {
   "codemirror_mode": {
    "name": "ipython",
    "version": 3
   },
   "file_extension": ".py",
   "mimetype": "text/x-python",
   "name": "python",
   "nbconvert_exporter": "python",
   "pygments_lexer": "ipython3",
   "version": "3.5.1"
  }
 },
 "nbformat": 4,
 "nbformat_minor": 0
}
